{
 "cells": [
  {
   "cell_type": "markdown",
   "metadata": {},
   "source": [
    "# osm2gmns  \n",
    "osm2gmns is a Python package that facilitates downloading networks from [OpenStreetMap](https://www.openstreetmap.org) (OSM), and save them in .csv files in [GMNS](https://github.com/zephyr-data-specs/GMNS) format.  \n",
    "\n",
    "This is quick guide to getting started with osm2gmns. For more details, check osm2gmns's [official documentation](https://osm2gmns.readthedocs.io/en/latest/index.html)"
   ]
  },
  {
   "cell_type": "markdown",
   "metadata": {},
   "source": [
    "### 1. Install osm2gmns\n",
    "You can run this command from the command line, or just run the code cell below"
   ]
  },
  {
   "cell_type": "code",
   "execution_count": null,
   "metadata": {},
   "outputs": [],
   "source": [
    "pip install osm2gmns"
   ]
  },
  {
   "cell_type": "markdown",
   "metadata": {},
   "source": [
    "### 2. Import the module"
   ]
  },
  {
   "cell_type": "code",
   "execution_count": null,
   "metadata": {},
   "outputs": [],
   "source": [
    "import osm2gmns as og"
   ]
  },
  {
   "cell_type": "code",
   "execution_count": null,
   "metadata": {},
   "outputs": [],
   "source": [
    "# OSM network data\n",
    "target = 'ucf.osm'\n",
    "id = 1159228"
   ]
  },
  {
   "cell_type": "markdown",
   "metadata": {},
   "source": [
    "### 3. Download the Network  \n",
    "\n",
    "`downloadOSMData()` requests the network data from OSM through the Overpass API and saves it to a file.  \n",
    "\n",
    "TODO: add note about using osmosis for smaller downloads"
   ]
  },
  {
   "cell_type": "code",
   "execution_count": null,
   "metadata": {},
   "outputs": [],
   "source": [
    "og.downloadOSMData(area_id=id, output_filename=target)"
   ]
  },
  {
   "cell_type": "markdown",
   "metadata": {},
   "source": [
    "Note: The .osm file obtained from the code above might be too large to work with for particularly big networks. One way you can reduce the network size is to use `osmosis`, a command line Java application used for processing OSM data.\n",
    "\n",
    "The Overpass API used by `downloadOSMData()` tries to reduce the size of the data it sends by omitting unnecessary attributes added to the OSM 0.6 format, such as node.version. However, osmosis requires that all these attributes be present before it can process the data. \n",
    "\n",
    "We can add dummy data to the OSM file with the `osmconvert` command line application, with the following command:\n",
    "`$ osmconvert \"source.osm\" --fake-author -o=\"dest.osm\"`\n",
    "\n",
    "After adding the dummy data, we can filter the network file to include highways only using the following command:  \n",
    "`$ osmosis --read-xml \"dest.osm\" --tf accept-ways highway=* --used-node --write-xml \"highways.osm\"`"
   ]
  },
  {
   "cell_type": "code",
   "execution_count": null,
   "metadata": {},
   "outputs": [],
   "source": [
    "# define separate target file after preparing highways data\n",
    "highways_target = 'highways.osm'"
   ]
  },
  {
   "cell_type": "markdown",
   "metadata": {},
   "source": [
    "### 4. Load the Network  \n",
    "`getNetFromFile()` loads a osm file `filename`, and returns a Network object.  \n",
    "For a simple visualization of the network, you can use the function `show()`\n",
    "\n",
    "TODO: describe `getNetFromFile()` arguments"
   ]
  },
  {
   "cell_type": "code",
   "execution_count": null,
   "metadata": {},
   "outputs": [],
   "source": [
    "net = og.getNetFromFile(filename=target, POI=True)\n",
    "og.show(net, figsize=(4,4))"
   ]
  },
  {
   "cell_type": "code",
   "execution_count": null,
   "metadata": {},
   "outputs": [],
   "source": [
    "# highways only data may be more efficient to work with for particularly large networks\n",
    "highways = og.getNetFromFile(highways_target)\n",
    "# og.show(highways, figsize=(4,4))"
   ]
  },
  {
   "cell_type": "markdown",
   "metadata": {},
   "source": [
    "use `connectPOIWithNet()` to connect the network with the Points of Interest (POI) avaliable"
   ]
  },
  {
   "cell_type": "code",
   "execution_count": null,
   "metadata": {},
   "outputs": [],
   "source": [
    "og.connectPOIWithNet(net)\n",
    "# og.show(net, figsize=(4,4))"
   ]
  },
  {
   "cell_type": "markdown",
   "metadata": {},
   "source": [
    "### 5. Save GMNS Network\n",
    "Use `outputNetToCSV()` to save the network in GMNS format.  \n",
    "The network files will be saved to `output_folder`"
   ]
  },
  {
   "cell_type": "code",
   "execution_count": null,
   "metadata": {},
   "outputs": [],
   "source": [
    "csv_dir = 'gmns'\n",
    "og.outputNetToCSV(net, output_folder=csv_dir)"
   ]
  },
  {
   "cell_type": "markdown",
   "metadata": {},
   "source": [
    "### 6. Consolidate Intersections  \n",
    "Some intersections in the network may be represented by more than one node.  \n",
    "To simplify the network, you can use `consolidateComplexIntersections()`.  \n",
    "\n",
    "setting the `auto_identify` argument to `True` will make osm2gmns automatically consolidate any complex intersection.  \n",
    "Alternatively, you can pass a path to an intersection file to the argument `intersection_path` specifying the central position of each complex intersection.  "
   ]
  },
  {
   "cell_type": "code",
   "execution_count": null,
   "metadata": {},
   "outputs": [],
   "source": [
    "og.consolidateComplexIntersections(net, auto_identify=True)\n",
    "og.outputNetToCSV(net, output_folder=csv_dir+\"_consolidated\")\n",
    "og.show(net, figsize=(4,4))"
   ]
  },
  {
   "cell_type": "markdown",
   "metadata": {},
   "source": [
    "### 7. Multi Resolution Networks  \n",
    "You can build the network at different resolutions using `buildMultiResolutionNets()`, down to mesoscopic and microscopic networks."
   ]
  },
  {
   "cell_type": "code",
   "execution_count": null,
   "metadata": {},
   "outputs": [],
   "source": [
    "og.buildMultiResolutionNets(net)\n",
    "og.outputNetToCSV(net, output_folder=csv_dir+\"_resolutions\")"
   ]
  },
  {
   "cell_type": "markdown",
   "metadata": {},
   "source": [
    "### 8. Other Useful Functions"
   ]
  },
  {
   "cell_type": "markdown",
   "metadata": {},
   "source": [
    "`generateMovements(network)` uses built-in methods to generate movements for each node in the network.  \n",
    "\n",
    "Note: this function requires that the links have lanes information. You can set `default_lanes` to `True` when loading the network from disk if your dataset doesn't have lane information."
   ]
  },
  {
   "cell_type": "code",
   "execution_count": null,
   "metadata": {},
   "outputs": [],
   "source": [
    "net = og.getNetFromFile(target, default_lanes=True, POI=True)\n",
    "og.consolidateComplexIntersections(net)\n",
    "\n",
    "og.generateMovements(net)\n",
    "og.outputNetToCSV(net, output_folder=csv_dir+\"_movements\")"
   ]
  },
  {
   "cell_type": "markdown",
   "metadata": {},
   "source": [
    "`loadNetFromCSV()` can be used to load a network if you already have it saved in GMNS format."
   ]
  },
  {
   "cell_type": "code",
   "execution_count": null,
   "metadata": {},
   "outputs": [],
   "source": [
    "net = og.loadNetFromCSV(\n",
    "    folder=csv_dir+\"_movements\",\n",
    "    node_file='node.csv',\n",
    "    link_file='link.csv',\n",
    "    movement_file='movement.csv',\n",
    "    POI_file='poi.csv'\n",
    "    )\n",
    "\n",
    "og.show(net, figsize=(4,4))"
   ]
  },
  {
   "cell_type": "markdown",
   "metadata": {},
   "source": [
    "`saveFig()` saves the network plot with the specified filepath"
   ]
  },
  {
   "cell_type": "code",
   "execution_count": null,
   "metadata": {},
   "outputs": [],
   "source": [
    "og.saveFig(net, picpath=csv_dir+\"_movements/network.jpg\")"
   ]
  },
  {
   "cell_type": "markdown",
   "metadata": {},
   "source": [
    "Use `generateNodeActivityInfo()` to generate activity information such as activity_type, is_boundary, zone_id for nodes."
   ]
  },
  {
   "cell_type": "code",
   "execution_count": null,
   "metadata": {},
   "outputs": [],
   "source": [
    "og.generateNodeActivityInfo(net)\n",
    "og.outputNetToCSV(net, output_folder=csv_dir+\"_activity\")"
   ]
  },
  {
   "cell_type": "markdown",
   "metadata": {},
   "source": [
    "`generateLinkVDFInfo(network)` generates VDF information, such as `VDF_fftt1` (free flow travel time of link in minutes) and `VDF_cap1` (link capacity in vehicles/hour/link)"
   ]
  },
  {
   "cell_type": "code",
   "execution_count": null,
   "metadata": {},
   "outputs": [],
   "source": [
    "og.generateLinkVDFInfo(net)\n",
    "og.outputNetToCSV(net, output_folder=csv_dir+\"_vdf\")"
   ]
  },
  {
   "cell_type": "markdown",
   "metadata": {},
   "source": [
    "`combineShortLinks(network)` combines links connected by two-degree nodes (explanation) into a longer link"
   ]
  },
  {
   "cell_type": "code",
   "execution_count": null,
   "metadata": {},
   "outputs": [],
   "source": [
    "og.combineShortLinks(net)\n",
    "og.outputNetToCSV(net, output_folder=csv_dir+\"_combined\")"
   ]
  }
 ],
 "metadata": {
  "kernelspec": {
   "display_name": "Python 3",
   "language": "python",
   "name": "python3"
  },
  "language_info": {
   "codemirror_mode": {
    "name": "ipython",
    "version": 3
   },
   "file_extension": ".py",
   "mimetype": "text/x-python",
   "name": "python",
   "nbconvert_exporter": "python",
   "pygments_lexer": "ipython3",
   "version": "3.9.17"
  }
 },
 "nbformat": 4,
 "nbformat_minor": 2
}
