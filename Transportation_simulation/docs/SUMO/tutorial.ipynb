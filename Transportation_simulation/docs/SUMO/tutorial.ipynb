{
 "cells": [
  {
   "cell_type": "code",
   "execution_count": null,
   "metadata": {},
   "outputs": [],
   "source": [
    "pip install traci"
   ]
  },
  {
   "cell_type": "code",
   "execution_count": null,
   "metadata": {},
   "outputs": [],
   "source": [
    "import os\n",
    "import sys\n",
    "\n",
    "if 'SUMO_HOME' in os.environ:\n",
    "    sys.path.append(os.path.join(os.environ['SUMO_HOME'], 'tools'))\n",
    "else:\n",
    "    sys.exit('Please declare environment variable \\'SUMO_HOME\\'')\n",
    "\n",
    "import traci"
   ]
  },
  {
   "cell_type": "code",
   "execution_count": null,
   "metadata": {},
   "outputs": [],
   "source": [
    "data_dir = '_data'\n",
    "\n",
    "# replace sumo_binary to contain the path to sumo or sumo-gui in your system\n",
    "sumo_binary = 'C:\\Program Files (x86)\\Eclipse\\Sumo\\\\bin\\sumo-gui.exe'\n",
    "sumo_cmd = [sumo_binary, '-c', data_dir + os.sep + 'test.sumocfg']"
   ]
  },
  {
   "cell_type": "code",
   "execution_count": null,
   "metadata": {},
   "outputs": [],
   "source": [
    "traci.start(sumo_cmd)\n",
    "\n",
    "step = 0\n",
    "while step < 1000:\n",
    "    traci.simulationStep()\n",
    "    if traci.inductionloop.getLastStepVehicleNumber('0') > 0:\n",
    "        traci.trafficlight.setRedYellowGreenState('0', 'GrGr')\n",
    "        print('Something happened...')\n",
    "    \n",
    "    # print(step)\n",
    "    step += 1\n",
    "\n",
    "traci.close(False)"
   ]
  }
 ],
 "metadata": {
  "kernelspec": {
   "display_name": "Python 3",
   "language": "python",
   "name": "python3"
  },
  "language_info": {
   "codemirror_mode": {
    "name": "ipython",
    "version": 3
   },
   "file_extension": ".py",
   "mimetype": "text/x-python",
   "name": "python",
   "nbconvert_exporter": "python",
   "pygments_lexer": "ipython3",
   "version": "3.10.11"
  }
 },
 "nbformat": 4,
 "nbformat_minor": 2
}
