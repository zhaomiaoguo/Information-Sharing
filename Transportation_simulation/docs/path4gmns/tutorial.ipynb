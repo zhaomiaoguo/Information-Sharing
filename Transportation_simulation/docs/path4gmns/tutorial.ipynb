{
 "cells": [
  {
   "cell_type": "markdown",
   "metadata": {},
   "source": [
    "# Path4GMNS  \n",
    "\n",
    "Note: This notebook is adapted from [tutorial.ipynb](https://github.com/jdlph/Path4GMNS/blob/master/tests/tutorial.ipynb) in the Path4GMNS Github repo, although it adds some notes and context after experimenting with the package and examining the source code.  "
   ]
  },
  {
   "cell_type": "markdown",
   "metadata": {},
   "source": [
    "Path4GMNS is a Python package designed to work with networks in GMNS format.  \n",
    "\n",
    "Path4GMNS supports:  \n",
    "1. Static Traffic Assignment\n",
    "2. User Equilibrium (UE) Traffic Assignment\n",
    "3. Dynamic Traffic Assignment\n",
    "4. Multimodal Accessibility and Equity Evaluation\n",
    "5. Zone and Origin-Destination (OD) demand synthesis for a network"
   ]
  },
  {
   "cell_type": "markdown",
   "metadata": {},
   "source": [
    "### 1. Install path4gmns"
   ]
  },
  {
   "cell_type": "code",
   "execution_count": null,
   "metadata": {},
   "outputs": [],
   "source": [
    "pip install path4gmns"
   ]
  },
  {
   "cell_type": "markdown",
   "metadata": {},
   "source": [
    "### 2. Import the module"
   ]
  },
  {
   "cell_type": "code",
   "execution_count": null,
   "metadata": {},
   "outputs": [],
   "source": [
    "import path4gmns as pg"
   ]
  },
  {
   "cell_type": "markdown",
   "metadata": {},
   "source": [
    "The minimum data required to work with Path4GMNS is a node.csv and link.csv file. We can prepare this data using the osm2gmns module"
   ]
  },
  {
   "cell_type": "code",
   "execution_count": null,
   "metadata": {},
   "outputs": [],
   "source": [
    "import osm2gmns as og\n",
    "net_id = 1159228\n",
    "\n",
    "# download data and build network object\n",
    "og.downloadOSMData(net_id)\n",
    "net = og.getNetFromFile(POI=True)\n",
    "\n",
    "# save network data in GMNS format\n",
    "og.outputNetToCSV(net)"
   ]
  },
  {
   "cell_type": "markdown",
   "metadata": {},
   "source": [
    "### 3. Read GMNS data  "
   ]
  },
  {
   "cell_type": "markdown",
   "metadata": {},
   "source": [
    "Use `read_network()` to load the data from the link and node files into a Network object.  \n",
    "\n",
    "You can specify the directory with the network data using the `input_dir` argument.  \n",
    "You can also specify the units used in the network with the `length_unit` and `speed_unit` parameters. The supported units are as follows:    \n",
    "\n",
    "Length units  \n",
    "`'meter'` or `'m'`  \n",
    "`'kilometer'` or `'km'`  \n",
    "`'mile'` or `'mi'`  \n",
    "  \n",
    "Speed units  \n",
    "`'kmh'` or `'kph'`  \n",
    "`'mph'`  \n",
    "\n",
    "The function will default to miles and miles per hour if no units are specified."
   ]
  },
  {
   "cell_type": "code",
   "execution_count": null,
   "metadata": {},
   "outputs": [],
   "source": [
    "net = pg.read_network(length_unit='meter')"
   ]
  },
  {
   "cell_type": "markdown",
   "metadata": {},
   "source": [
    "### 4. Find the shortest path between 2 nodes"
   ]
  },
  {
   "cell_type": "markdown",
   "metadata": {},
   "source": [
    "`network.find_shortest_path()` takes two node ids and returns a string detailing the total distance and the shortest path between the two, in a sequence of node ids.  \n",
    "\n",
    "You can set the `seq_type` parameter to `'link'` to have the path described in a sequence of links"
   ]
  },
  {
   "cell_type": "code",
   "execution_count": null,
   "metadata": {},
   "outputs": [],
   "source": [
    "path = net.find_shortest_path(from_node_id=1, to_node_id=2)\n",
    "print(path)\n",
    "\n",
    "path = net.find_shortest_path(1, 2, seq_type='link')\n",
    "print(path)"
   ]
  },
  {
   "cell_type": "markdown",
   "metadata": {},
   "source": [
    "### 5. Load Zones and OD Demand Matrix  \n",
    "\n"
   ]
  },
  {
   "cell_type": "markdown",
   "metadata": {},
   "source": [
    "Zone information is necessary for conducting traffic assignment, evaluating accessibility and equity.  \n",
    "\n",
    "If you don't have this data, you can synthesize it, as well as Origin-Destination demand matrix.  \n",
    "\n",
    "Note: synthesizing zone and demand data will overwrite any existing `zone.csv` and `demand.csv` files you may already have.  \n",
    "Note: to synthesize demand data, you will need to have a `poi.csv` file present in the directory where you called `read_network()`"
   ]
  },
  {
   "cell_type": "code",
   "execution_count": null,
   "metadata": {},
   "outputs": [],
   "source": [
    "pg.network_to_zones(net)\n",
    "pg.output_zones(net)\n",
    "\n",
    "pg.output_synthesized_demand(net)"
   ]
  },
  {
   "cell_type": "markdown",
   "metadata": {},
   "source": [
    "If you already have `zone.csv` and `demand.csv`, you can just load the zones and OD demand matrix with the following functions:"
   ]
  },
  {
   "cell_type": "code",
   "execution_count": null,
   "metadata": {},
   "outputs": [],
   "source": [
    "net = pg.read_network()\n",
    "\n",
    "pg.read_zones(net)\n",
    "pg.load_demand(net)"
   ]
  },
  {
   "cell_type": "markdown",
   "metadata": {},
   "source": [
    "Note: `read_zones()` and `load_demand()` will read `zones.csv` and `demand.csv` by default, respectively. You can specify different .csv files using the `filename` parameter in both functions."
   ]
  },
  {
   "cell_type": "markdown",
   "metadata": {},
   "source": [
    "### 6. Path-Based User Rquilibrium (UE) Traffic Assignment"
   ]
  },
  {
   "cell_type": "markdown",
   "metadata": {},
   "source": [
    "OD demand matrix is necessary for this functionality, so you'll need to load the demand data before you can conduct the following traffic assignment "
   ]
  },
  {
   "cell_type": "code",
   "execution_count": null,
   "metadata": {},
   "outputs": [],
   "source": [
    "net = pg.read_network()\n",
    "\n",
    "pg.read_zones(net)\n",
    "pg.load_demand(net)\n",
    "\n",
    "# specify parameters for traffic assignment \n",
    "column_gen_num = 10\n",
    "column_update_num = 10\n",
    "\n",
    "# path-based UE only\n",
    "pg.perform_column_generation(column_gen_num, column_update_num, net)\n",
    "\n",
    "# set the parameter output_geometry to False\n",
    "# if you don't want to include geometry info into the output file\n",
    "# output column information to agent.csv\n",
    "pg.output_columns(net)\n",
    "\n",
    "# output link performance information to link_performance.csv\n",
    "pg.output_link_performance(net)"
   ]
  },
  {
   "cell_type": "markdown",
   "metadata": {},
   "source": [
    "### 7. Evaluate Accessibility"
   ]
  },
  {
   "cell_type": "markdown",
   "metadata": {},
   "source": [
    "Accessibility defines where you can go given a time budget and a transportation mode (e.g., auto).  \n",
    "You can find the number of accessible zones from each zone (`zone_accessibility.csv`) along with the free flow travel time for each OD pair in minutes (`od_accessibility.csv`)\n",
    "\n",
    "Note: the default mode is `'auto'` and the default time budget is 240 minutes.\n",
    "Note: Zone information is necessary for accessibility evaluation\n",
    "Note: Make sure to set `single_mode` to True for single mode evaluation. Multimodal evaluation will be visited in a later section."
   ]
  },
  {
   "cell_type": "code",
   "execution_count": null,
   "metadata": {},
   "outputs": [],
   "source": [
    "# No need to load demand information for accessibility evaluation\n",
    "net = pg.read_network()\n",
    "pg.read_zones(net)\n",
    "\n",
    "pg.evaluate_accessibility(net, single_mode=True)"
   ]
  },
  {
   "cell_type": "markdown",
   "metadata": {},
   "source": [
    "### 8. Evaluate Equity"
   ]
  },
  {
   "cell_type": "markdown",
   "metadata": {},
   "source": [
    "Transportation Equity is accessibility with respect to different demographics. Given a time budget and a segmentation of zones, Path4GMNS provides the following simple info and statistics on equity:\n",
    "\n",
    "1. accessible zones\n",
    "1. min accessibility (The zone with the minimum number of accessible zones)\n",
    "1. max accessibility (The zone with the maximum number of accessible zones)\n",
    "1. mean accessibility (The average number of accessible zones over a bin of zones)"
   ]
  },
  {
   "cell_type": "code",
   "execution_count": null,
   "metadata": {},
   "outputs": [],
   "source": [
    "# No need to laod demand information for equity evaluation\n",
    "net = pg.read_network()\n",
    "pg.read_zones(net)\n",
    "\n",
    "# single_mode must be set to True for single mode evaluation\n",
    "pg.evaluate_equity(net, single_mode=True)"
   ]
  },
  {
   "cell_type": "markdown",
   "metadata": {},
   "source": [
    "### 9. Multimodal Evaluation"
   ]
  },
  {
   "cell_type": "markdown",
   "metadata": {},
   "source": [
    "For multimodal evaluation, the corresponding modes (i.e., agent types) must be present in `settings.yml`. For this, we will use the pyyaml Python package (version 5.1 or higher)"
   ]
  },
  {
   "cell_type": "code",
   "execution_count": null,
   "metadata": {},
   "outputs": [],
   "source": [
    "pip install pyyaml"
   ]
  },
  {
   "cell_type": "markdown",
   "metadata": {},
   "source": [
    "If you don't hae a YAML settings file, you can download a base `settings.yml` file using the following function:"
   ]
  },
  {
   "cell_type": "code",
   "execution_count": null,
   "metadata": {},
   "outputs": [],
   "source": [
    "# pg.download_sample_setting_file()"
   ]
  },
  {
   "cell_type": "markdown",
   "metadata": {},
   "source": [
    "Note: working with the sample setting file may return the error:  \n",
    "`Invalid time_periods:  not enough values to unpack (expected 2, got 1)`  \n",
    "\n",
    "If this happens, try changing the following line in `settings.yml`:  \n",
    "`    time_period: 0700-0800`  \n",
    "\n",
    "to:  \n",
    "`    time_period: 0700_0800`"
   ]
  },
  {
   "cell_type": "markdown",
   "metadata": {},
   "source": [
    "### Get the Shortest Path Between Two Nodes Under a Specific Mode"
   ]
  },
  {
   "cell_type": "markdown",
   "metadata": {},
   "source": [
    "Use the function `find_shortest_path()` specifying the mode you want to evaluate in the `mode` parameter. \n",
    " \n",
    "Note: The mode you want to use has to be defined in `settings.yml`  \n",
    "Note: `find_shortest_path()` will not return a valid path if there is not a possible path where the links support the mode specified in the function. You can check the supported modes of each link in the `allowed_uses` attribute of link.csv"
   ]
  },
  {
   "cell_type": "code",
   "execution_count": null,
   "metadata": {},
   "outputs": [],
   "source": [
    "net = pg.read_network(length_unit='meter')\n",
    "\n",
    "# mode 'a' for auto. You can also use mode 'w' for walk\n",
    "path = net.find_shortest_path(1, 2, mode='a')\n",
    "print(path)\n",
    "\n",
    "path = net.find_shortest_path(1, 2, mode='a', seq_type='link')\n",
    "print(path)"
   ]
  },
  {
   "cell_type": "markdown",
   "metadata": {},
   "source": [
    "### Multimodal Accessibility Evaluation"
   ]
  },
  {
   "cell_type": "markdown",
   "metadata": {},
   "source": [
    "Multimodal accessibility evaluation is similar to single mode accessibility evaluation. You just need to set the `single_mode` parameter in `evaluate_accessibility()` to `False`"
   ]
  },
  {
   "cell_type": "code",
   "execution_count": null,
   "metadata": {},
   "outputs": [],
   "source": [
    "net = pg.read_network()\n",
    "pg.read_zones(net)\n",
    "\n",
    "# single_mode parameter is set to False by default\n",
    "pg.evaluate_accessibility(net)"
   ]
  },
  {
   "cell_type": "markdown",
   "metadata": {},
   "source": [
    "### Multimodal Equity Evaluation"
   ]
  },
  {
   "cell_type": "markdown",
   "metadata": {},
   "source": [
    "Just like with multimodal accessibility evaluation, for multimodal equity evaluation you just need to set `single_mode` to `False` in `evaluate_equity()`"
   ]
  },
  {
   "cell_type": "code",
   "execution_count": null,
   "metadata": {},
   "outputs": [],
   "source": [
    "net = pg.read_network()\n",
    "pg.read_zones(net)\n",
    "\n",
    "# single_mode parameter is set to False by default\n",
    "pg.evaluate_equity(net)"
   ]
  },
  {
   "cell_type": "markdown",
   "metadata": {},
   "source": [
    "### Conduct Dynamic Traffic Simulation"
   ]
  },
  {
   "cell_type": "markdown",
   "metadata": {},
   "source": [
    "Traffic simulation requires routing decisions from each agent, which is obtained from User Equilibrium traffic assingment."
   ]
  },
  {
   "cell_type": "code",
   "execution_count": null,
   "metadata": {},
   "outputs": [],
   "source": [
    "net = pg.read_network()\n",
    "\n",
    "pg.read_zones(net)\n",
    "pg.load_demand(net)\n",
    "\n",
    "# User Equilibrium + Dynamic Traffic Assingment\n",
    "column_gen_num = 10\n",
    "column_update_num = 10\n",
    "\n",
    "pg.perform_column_generation(column_gen_num, column_update_num, net)\n",
    "pg.perform_simple_simulation(net)\n",
    "print('Completed dynamic simulation\\n')\n",
    "\n",
    "print('writing agent trajectories')\n",
    "pg.output_agent_trajectory(net)"
   ]
  },
  {
   "cell_type": "markdown",
   "metadata": {},
   "source": [
    "If you already have an agent.csv file, you can just load it and skip the column generation step"
   ]
  },
  {
   "cell_type": "code",
   "execution_count": null,
   "metadata": {},
   "outputs": [],
   "source": [
    "net = pg.read_network()\n",
    "\n",
    "# Load prepared User Equilibrium data\n",
    "pg.load_columns(net)\n",
    "\n",
    "# Perform Dynamic Traffic Assignemnt\n",
    "pg.perform_simple_simulation(net)\n",
    "print('Completed dynamic simulation\\n')\n",
    "\n",
    "print('writing agent trajectories')\n",
    "pg.output_agent_trajectory(net)"
   ]
  },
  {
   "cell_type": "markdown",
   "metadata": {},
   "source": [
    "To obtain the shortest path, you can set `column_gen_num` to 1 and `column_update_num` to 0"
   ]
  },
  {
   "cell_type": "code",
   "execution_count": null,
   "metadata": {},
   "outputs": [],
   "source": [
    "net = pg.read_network()\n",
    "\n",
    "pg.read_zones(net)\n",
    "pg.load_demand(net)\n",
    "\n",
    "# User Equilibrium + Dynamic Traffic Assingment\n",
    "column_gen_num = 1\n",
    "column_update_num = 0\n",
    "\n",
    "pg.perform_column_generation(column_gen_num, column_update_num, net)\n",
    "pg.perform_simple_simulation(net)\n",
    "print('Completed dynamic simulation\\n')\n",
    "\n",
    "print('writing agent trajectories')\n",
    "pg.output_agent_trajectory(net)"
   ]
  },
  {
   "cell_type": "markdown",
   "metadata": {},
   "source": [
    "### In Case of Special Events"
   ]
  },
  {
   "cell_type": "markdown",
   "metadata": {},
   "source": [
    "A special event may come with capacity reduction over the affected links. You can introduce one special event for each demand period in `settings.yml` as below:\n",
    "\n",
    "```yaml\n",
    "demand_periods:\n",
    "  - period: AM\n",
    "    time_period: 0700_0800\n",
    "    special_event:\n",
    "      name: work_zone\n",
    "      enable: true\n",
    "      # with respect to iterations in column generation\n",
    "      beg_iteration: 1\n",
    "      end_iteration: 20\n",
    "      affected_links:\n",
    "        - link_id: 1\n",
    "          capacity_ratio: 0.5\n",
    "        - link_id: 2\n",
    "          capacity_ratio: 0.4\n",
    "        - link_id: 3\n",
    "          capacity_ratio: 0.6\n",
    "        - link_id: 4\n",
    "          capacity_ratio: 0\n",
    "```\n",
    "\n",
    "If the original capacity of an affected link is C, its affected capacity will be r * C, where r is the reduction ratio (`capacity_ratio`) when a special event is present. setting the `capacity_ratio` of an affected link to 0 is equivalent to removing the link from the entire demand period. You can turn on or off a special event by setting `special_event.enable` to true or false in the settings file.\n",
    "\n",
    "TODO: conduct traffic assignment with the special events"
   ]
  },
  {
   "cell_type": "markdown",
   "metadata": {},
   "source": [
    "### Accessibility Considering Time-Dependent Link Travel Time"
   ]
  },
  {
   "cell_type": "markdown",
   "metadata": {},
   "source": [
    "For single mode and multimodal accessibility evaluation, accessibility is evaluated using the link free flow travel time (FFTT), which is determined by link length and link free flow speed under a specific mode.  \n",
    "\n",
    "Link travel time varies over time, and so does accessibility. When the time-dependent accessibility is of interest, time-dependent link travel time (i.e., VDF_fftt from a given demand period in `link.csv`) will come into play by overwriting the static link free flow speed (from either `link.csv` or `settings.yml`. Both are denoted as `free_speed`)."
   ]
  },
  {
   "cell_type": "code",
   "execution_count": null,
   "metadata": {},
   "outputs": [],
   "source": [
    "net = pg.read_network()\n",
    "\n",
    "# time-dependent accessibility under the default mode auto\n",
    "# for demand period 0\n",
    "pg.evaluate_accessibility(net, single_mode=True, time_dependent=True)\n",
    "\n",
    "# time-dependent accessibility under a specific mode, walk\n",
    "pg.evaluate_accessibility(net, single_mode=True, mode='w', time_dependent=True)"
   ]
  },
  {
   "cell_type": "markdown",
   "metadata": {},
   "source": [
    "### DTALite"
   ]
  },
  {
   "cell_type": "markdown",
   "metadata": {},
   "source": [
    "Path4GMNS also serves as an API to the C++ based DTALite to conduct various multimodal traffic assignments, including:  \n",
    "\n",
    "```\n",
    "0: Link-based User Equilibrium (UE)\n",
    "1: Path-based User Equilibrium (UE)\n",
    "2: UE + Dynamic Traffic Assignment (DTA)\n",
    "3: OD Matrix Estimation (ODME)\n",
    "```\n",
    "\n",
    "Note: Make sure to restart the kernel after every `perform_network_assignment_DTALite()` run."
   ]
  },
  {
   "cell_type": "markdown",
   "metadata": {},
   "source": [
    "### Link-Based User Equilibrium"
   ]
  },
  {
   "cell_type": "code",
   "execution_count": null,
   "metadata": {},
   "outputs": [],
   "source": [
    "# No need to call read_network() as network and demand will be loaded by DTALite\n",
    "\n",
    "mode = 0\n",
    "column_gen_num = 10\n",
    "column_update_num = 10\n",
    "\n",
    "pg.perform_network_assignment_DTALite(mode, column_gen_num, column_update_num)"
   ]
  },
  {
   "cell_type": "markdown",
   "metadata": {},
   "source": [
    "### Path-Based User Equilibrium\n",
    "\n",
    "This mode of traffic assignment requires a `settings.csv` file"
   ]
  },
  {
   "cell_type": "code",
   "execution_count": null,
   "metadata": {},
   "outputs": [],
   "source": [
    "import path4gmns as pg\n",
    "\n",
    "mode = 1\n",
    "column_gen_num = 10\n",
    "column_update_num = 10\n",
    "\n",
    "pg.perform_network_assignment_DTALite(mode, column_gen_num, column_update_num)"
   ]
  },
  {
   "cell_type": "markdown",
   "metadata": {},
   "source": [
    "### User Equilibrium + Dynamic Traffic Assignment"
   ]
  },
  {
   "cell_type": "code",
   "execution_count": null,
   "metadata": {},
   "outputs": [],
   "source": [
    "import path4gmns as pg\n",
    "\n",
    "mode = 2\n",
    "column_gen_num = 10\n",
    "column_update_num = 10\n",
    "\n",
    "pg.perform_network_assignment_DTALite(mode, column_gen_num, column_update_num)"
   ]
  },
  {
   "cell_type": "markdown",
   "metadata": {},
   "source": [
    "### OD Matrix Estimation"
   ]
  },
  {
   "cell_type": "code",
   "execution_count": null,
   "metadata": {},
   "outputs": [],
   "source": [
    "import path4gmns as pg\n",
    "\n",
    "mode = 3\n",
    "column_gen_num = 10\n",
    "column_update_num = 10\n",
    "\n",
    "pg.perform_network_assignment_DTALite(mode, column_gen_num, column_update_num)"
   ]
  }
 ],
 "metadata": {
  "kernelspec": {
   "display_name": "Python 3",
   "language": "python",
   "name": "python3"
  },
  "language_info": {
   "codemirror_mode": {
    "name": "ipython",
    "version": 3
   },
   "file_extension": ".py",
   "mimetype": "text/x-python",
   "name": "python",
   "nbconvert_exporter": "python",
   "pygments_lexer": "ipython3",
   "version": "3.11.4"
  }
 },
 "nbformat": 4,
 "nbformat_minor": 2
}
