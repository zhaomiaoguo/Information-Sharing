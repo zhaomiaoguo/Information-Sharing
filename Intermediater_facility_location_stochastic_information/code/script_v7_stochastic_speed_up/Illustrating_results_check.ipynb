{
 "cells": [
  {
   "cell_type": "code",
   "execution_count": 1,
   "id": "3c1efdee",
   "metadata": {},
   "outputs": [],
   "source": [
    "import numpy as np\n",
    "import pandas as pd\n",
    "import matplotlib.pyplot as plt\n",
    "import os\n",
    "import csv\n",
    "import seaborn as sns\n",
    "import re\n",
    "from convex_optimization_results_check import Network, Investors, Consumers, Example_Anaheim, Example, Example_6node, Example_3node\n",
    "from Transportaion_test_systems import import_matrix, transportation_network_topo\n",
    "import math"
   ]
  },
  {
   "cell_type": "code",
   "execution_count": 2,
   "id": "9e73a6e4",
   "metadata": {},
   "outputs": [],
   "source": [
    "def getNumbers(str):\n",
    "    array = re.findall(r'[0-9]+', str)\n",
    "    return array"
   ]
  },
  {
   "cell_type": "markdown",
   "id": "3316bf2b",
   "metadata": {},
   "source": [
    "### Loading network parameters"
   ]
  },
  {
   "cell_type": "code",
   "execution_count": 3,
   "id": "b45f6946",
   "metadata": {},
   "outputs": [
    {
     "name": "stdout",
     "output_type": "stream",
     "text": [
      "growth at scen  1 :  1.0268728488224803\n",
      "growth at scen  2 :  1.1694867473874464\n",
      "growth at scen  3 :  1.1527549237953227\n",
      "growth at scen  4 :  1.0510138051478843\n",
      "growth at scen  5 :  1.0990870174183882\n"
     ]
    }
   ],
   "source": [
    "congestion = False \n",
    "identical_scen = False \n",
    "Ntw = Example_6node(identical_scen, congestion)\n",
    "# Ntw.C.b3"
   ]
  },
  {
   "cell_type": "markdown",
   "id": "39101449",
   "metadata": {},
   "source": [
    "### Adding results paths"
   ]
  },
  {
   "cell_type": "code",
   "execution_count": 5,
   "id": "24356594",
   "metadata": {},
   "outputs": [],
   "source": [
    "root = (os.getcwd())\n",
    "results_path = root + '/Results'\n",
    "directory_contents = sorted(os.listdir(results_path))\n",
    "results_folders=[]\n",
    "# for item in directory_contents:\n",
    "#     if os.path.isdir(item):\n",
    "# #         print(getNumbers(item))\n",
    "#         results_folders.append(item)\n",
    "        \n",
    "final_results_path = os.path.join(results_path, directory_contents[-1])\n",
    "# final_results_path = os.path.join(results_path, 'Results_20211121_1648')\n",
    "determenistic_result_directory = os.path.dirname(os.getcwd()) + '/script_v8_deterministic_speed_up'"
   ]
  },
  {
   "cell_type": "code",
   "execution_count": 6,
   "id": "299b3e71",
   "metadata": {},
   "outputs": [
    {
     "data": {
      "text/plain": [
       "['.ipynb_checkpoints',\n",
       " 'Resulting_exsu.csv',\n",
       " 'Resulting_prices.csv',\n",
       " 'Resulting_scendiff.csv',\n",
       " 'Results_20220124_1235',\n",
       " 'Results_20220124_2255']"
      ]
     },
     "execution_count": 6,
     "metadata": {},
     "output_type": "execute_result"
    }
   ],
   "source": [
    "directory_contents"
   ]
  },
  {
   "cell_type": "markdown",
   "id": "c076ad8f",
   "metadata": {},
   "source": [
    "### Figures setup"
   ]
  },
  {
   "cell_type": "code",
   "execution_count": 7,
   "id": "5a57c945",
   "metadata": {},
   "outputs": [],
   "source": [
    "from collections import namedtuple, OrderedDict\n",
    "import matplotlib as mpl\n",
    "mpl.rcParams['figure.figsize'] = (9, 6)\n",
    "mpl.rcParams['axes.grid'] = False\n",
    "mpl.rcParams['lines.linewidth'] = 2\n",
    " \n",
    "mpl.rc('font',family='Times New Roman', size=20)\n",
    "fnt_size=30\n",
    "fnt_size2=20\n",
    "csfont = {'fontname':'Times New Roman',\n",
    "                  'size': fnt_size,\n",
    "                 'fontweight':'bold'}\n",
    "csfont2 = {'fontname':'Times New Roman',\n",
    "                  'size': fnt_size2}\n",
    "\n",
    "Color = namedtuple('RGB','red, green, blue')\n",
    "class RGB(Color):\n",
    "    def hex_format(self):\n",
    "        return '#{:02X}{:02X}{:02X}'.format(self.red,self.green,self.blue)"
   ]
  },
  {
   "cell_type": "markdown",
   "id": "03998ef0",
   "metadata": {},
   "source": [
    "### Helper functions for reading results"
   ]
  },
  {
   "cell_type": "code",
   "execution_count": 8,
   "id": "e28721b4",
   "metadata": {},
   "outputs": [],
   "source": [
    "def data_reader(file_name, result_type):\n",
    "    \n",
    "    \n",
    "    scenarios = []\n",
    "    nodes = []\n",
    "    value = []\n",
    "    value_dict={}\n",
    "    with open(file_name, 'r') as file:\n",
    "        reader = csv.reader(file)\n",
    "        for row in reader:\n",
    "            while(\"\" in row):\n",
    "                row.remove(\"\")\n",
    "#         row_numbers = getNumbers(row)\n",
    "            scenarios.append(int(getNumbers(row[0])[0]))\n",
    "            nodes.append(int(getNumbers(row[1])[0]))\n",
    "            value.append(float(row[-1]))\n",
    "            if result_type == 'Stochastic':\n",
    "                value_dict[int(getNumbers(row[1])[0]), int(getNumbers(row[0])[0])] = float(row[-1])\n",
    "            elif result_type == 'Deterministic':\n",
    "                value_dict[int(getNumbers(row[0])[0])] = float(row[-1])\n",
    "    if result_type == 'Stochastic':        \n",
    "        value_stochastic_dict= {'Nodes':nodes, 'Scenarios':scenarios, 'Values':value}\n",
    "        value_stochastic_df = pd.DataFrame(value_stochastic_dict)\n",
    "        \n",
    "    elif result_type == 'Deterministic':        \n",
    "        value_stochastic_dict= {'Nodes':nodes, 'Values':value}\n",
    "        value_stochastic_df = pd.DataFrame(value_stochastic_dict)\n",
    "            \n",
    "    return value_stochastic_df, value_dict\n",
    "\n",
    "def traffic_data_reader(file_name, traffic_type, results_type):\n",
    "    \n",
    "    if traffic_type == 'q':\n",
    "        q={}\n",
    "        with open(file_name, 'r') as file:\n",
    "            reader = csv.reader(file)\n",
    "            for row in reader:\n",
    "                while(\"\" in row):\n",
    "                    row.remove(\"\")\n",
    "                if results_type == 'Stochastic':\n",
    "                    if float(row[-1]) == 0:\n",
    "                        q[int(getNumbers(row[1])[0]), int(getNumbers(row[2])[0]), int(getNumbers(row[3])[0]), int(getNumbers(row[0])[0])] = float(row[-1]) + 0.00001\n",
    "                    else:\n",
    "                        q[int(getNumbers(row[1])[0]), int(getNumbers(row[2])[0]), int(getNumbers(row[3])[0]), int(getNumbers(row[0])[0])] = float(row[-1])\n",
    "                elif results_type == 'Deterministic':\n",
    "                    if float(row[-1]) == 0:\n",
    "                        q[int(getNumbers(row[0])[0]),int(getNumbers(row[1])[0]), int(getNumbers(row[2])[0])] = float(row[-1]) + 0.00001\n",
    "                    else:\n",
    "                        q[int(getNumbers(row[0])[0]), int(getNumbers(row[1])[0]), int(getNumbers(row[2])[0])] = float(row[-1])\n",
    "                \n",
    "        return q\n",
    "    \n",
    "    elif traffic_type == 'x':\n",
    "        x={}\n",
    "        with open(file_name, 'r') as file:\n",
    "            reader = csv.reader(file)\n",
    "            for row in reader:\n",
    "                while(\"\" in row):\n",
    "                    row.remove(\"\")\n",
    "                    \n",
    "                if results_type == 'Stochastic':\n",
    "                    x[int(getNumbers(row[1])[0]), int(getNumbers(row[2])[0]), int(getNumbers(row[3])[0]), int(getNumbers(row[4])[0]), int(getNumbers(row[5])[0]), int(getNumbers(row[0])[0])] = float(row[-1])\n",
    "                elif results_type == 'Deterministic':\n",
    "                    x[int(getNumbers(row[0])[0]), int(getNumbers(row[1])[0]), int(getNumbers(row[2])[0]), int(getNumbers(row[3])[0]), int(getNumbers(row[4])[0])] = float(row[-1])\n",
    "                \n",
    "        return x\n",
    "    \n",
    "    elif traffic_type == 'lamda':\n",
    "        lamda={}\n",
    "        with open(file_name, 'r') as file:\n",
    "            reader = csv.reader(file)\n",
    "            for row in reader:\n",
    "                while(\"\" in row):\n",
    "                    row.remove(\"\")\n",
    "                if results_type =='Stochastic':\n",
    "                    lamda[int(getNumbers(row[1])[0]), int(getNumbers(row[2])[0]), int(getNumbers(row[3])[0]), int(getNumbers(row[4])[0]), int(getNumbers(row[0])[0])] = float(row[-1])\n",
    "                elif results_type =='Deterministic':\n",
    "                    lamda[int(getNumbers(row[0])[0]), int(getNumbers(row[1])[0]), int(getNumbers(row[2])[0]), int(getNumbers(row[3])[0])] = float(row[-1])\n",
    "        return lamda\n",
    "    \n",
    "    elif traffic_type == 'mu':\n",
    "        mu={}\n",
    "        with open(file_name, 'r') as file:\n",
    "            reader = csv.reader(file)\n",
    "            for row in reader:\n",
    "                while(\"\" in row):\n",
    "                    row.remove(\"\")\n",
    "                if results_type == 'Stochastic':\n",
    "                    mu[int(getNumbers(row[1])[0]), int(getNumbers(row[2])[0]), int(getNumbers(row[0])[0])] = float(row[-1])\n",
    "                elif results_type == 'Deterministic':\n",
    "                    mu[int(getNumbers(row[0])[0]), int(getNumbers(row[1])[0])] = float(row[-1]) \n",
    "        return mu\n",
    "    \n",
    "    else:\n",
    "        print('Invalid traffic type; valid options are: q, x, lamda, mu')"
   ]
  },
  {
   "cell_type": "markdown",
   "id": "c15b2342",
   "metadata": {},
   "source": [
    "# Prices"
   ]
  },
  {
   "cell_type": "code",
   "execution_count": 9,
   "id": "8c5af160",
   "metadata": {},
   "outputs": [
    {
     "data": {
      "image/png": "[encoded data removed]",
      "text/plain": [
       "<Figure size 648x432 with 1 Axes>"
      ]
     },
     "metadata": {
      "needs_background": "light"
     },
     "output_type": "display_data"
    }
   ],
   "source": [
    "price_file_stochastic = os.path.join(final_results_path, 'Resulting_prices_Stochastic.csv')\n",
    "\n",
    "\n",
    "\n",
    "prices_stochastic_df, rho_stochastic = data_reader(file_name=price_file_stochastic,result_type='Stochastic')\n",
    "\n",
    "\n",
    "combined_prices_df = pd.DataFrame()\n",
    "combined_prices_df['Nodes'] = list(prices_stochastic_df.Nodes)\n",
    "combined_prices_df['Scenarios'] = list(prices_stochastic_df.Scenarios) \n",
    "combined_prices_df['Values'] = list(prices_stochastic_df.Values)\n",
    "combined_prices_df['Types'] = ['Stochastic']*len(prices_stochastic_df.Nodes)\n",
    "\n",
    "\n",
    "fig, ax = plt.subplots()\n",
    "my_pal = {\"Stochastic\": RGB(79/255,148/255,205/255), \"Investors\": RGB(255/255,128/255,0), 'CDA': 'red'}\n",
    "ax = sns.boxplot(x='Nodes', y='Values', data=combined_prices_df, hue='Types', linewidth=2, width=0.5, palette = my_pal)\n",
    "ax.set_xlabel(\"Locations\",**csfont)\n",
    "ax.set_ylabel(\"Service Price\",**csfont);\n",
    "# legend = plt.legend(fontsize=20, frameon=False);\n",
    "ax.get_legend().remove()\n",
    "# legend = plt.legend(loc='best', bbox_to_anchor=(0.6, 0.5, 0, 0) ,ncol=2, title='Nodes',fontsize=20, frameon=False)\n",
    "# plt.savefig('./Figures/rho.png',dpi=500, format='png', bbox_inches='tight')"
   ]
  },
  {
   "cell_type": "markdown",
   "id": "d6b7ac41",
   "metadata": {},
   "source": [
    "# Services (g)"
   ]
  },
  {
   "cell_type": "code",
   "execution_count": 10,
   "id": "3ec6ab6d",
   "metadata": {},
   "outputs": [
    {
     "data": {
      "image/png": "[encoded data removed]",
      "text/plain": [
       "<Figure size 648x432 with 1 Axes>"
      ]
     },
     "metadata": {
      "needs_background": "light"
     },
     "output_type": "display_data"
    }
   ],
   "source": [
    "service_file_stochastic = os.path.join(final_results_path, 'Resulting_services_Stochastic.csv')\n",
    "service_file_stochastic_investors = os.path.join(final_results_path, 'Resulting_services_Investors.csv')\n",
    "\n",
    "\n",
    "\n",
    "services_df_stochastic, g_stochastic = data_reader(file_name=service_file_stochastic,result_type='Stochastic')\n",
    "services_df_stochastic_investors, g_stochastic_investors = data_reader(file_name=service_file_stochastic_investors,result_type='Stochastic')\n",
    "combined_services_df = pd.DataFrame()\n",
    "combined_services_df['Nodes'] = list(services_df_stochastic.Nodes) + list(services_df_stochastic_investors.Nodes)\n",
    "combined_services_df['Scenarios'] = list(services_df_stochastic.Scenarios) + list(services_df_stochastic_investors.Scenarios)\n",
    "combined_services_df['Values'] = list(services_df_stochastic.Values) + list(services_df_stochastic_investors.Values)\n",
    "combined_services_df['Types'] = ['Stochastic']*len(services_df_stochastic.Nodes) + ['Investors']*len(services_df_stochastic_investors.Nodes)\n",
    "\n",
    "\n",
    "fig, ax = plt.subplots()\n",
    "ax = sns.boxplot(x='Nodes', y='Values', data=combined_services_df, hue='Types', linewidth=2, width=0.5, palette = my_pal)\n",
    "# ax.set_ylim(480,800)\n",
    "ax.set_xlabel(\"Locations\",**csfont)\n",
    "ax.set_ylabel(\"Service supply\",**csfont);\n",
    "legend = plt.legend(loc='upper left',  title='Types',fontsize=20, frameon=False);\n",
    "ax.get_legend().remove()\n",
    "# legend = plt.legend(loc='best', bbox_to_anchor=(0.6, 0.5, 0, 0) ,ncol=2, title='Nodes',fontsize=20, frameon=False)\n",
    "# plt.savefig('./Figures/g.png',dpi=500, format='png', bbox_inches='tight')"
   ]
  },
  {
   "cell_type": "markdown",
   "id": "6839f77c",
   "metadata": {},
   "source": [
    "# Capacity"
   ]
  },
  {
   "cell_type": "code",
   "execution_count": 11,
   "id": "d76b9de7",
   "metadata": {},
   "outputs": [
    {
     "name": "stdout",
     "output_type": "stream",
     "text": [
      "Capacities      Stochastic         Investors\n",
      "Node 2:         22.166364          22.166364\n",
      "Node 5:         71.392576          71.392576\n"
     ]
    }
   ],
   "source": [
    "capacities_file_stochastic = os.path.join(final_results_path, 'Resulting_capacities_Stochastic.csv')\n",
    "capacities_file_stochastic_investors= os.path.join(final_results_path, 'Resulting_capacities_Investors.csv')\n",
    "\n",
    "\n",
    "capacity_df_stochastic, c_stochastic = data_reader(file_name=capacities_file_stochastic,result_type='Stochastic')\n",
    "capacity_df_stochastic_investors, c_stochastic_investors = data_reader(file_name=capacities_file_stochastic_investors,result_type='Stochastic')\n",
    "\n",
    "print(\"Capacities      Stochastic         Investors\")\n",
    "for k in Ntw.I.K:\n",
    "    print('Node %i:         %f          %f'%(k,c_stochastic[k,1],c_stochastic_investors[k,1]))\n",
    "    \n",
    "\n",
    "# combined_capacity_df = pd.DataFrame()\n",
    "# combined_capacity_df['Nodes'] = list(capacity_df_stochastic.Nodes) + list(capacity_df_stochastic_investors.Nodes)\n",
    "# combined_capacity_df['Scenarios'] = list(capacity_df_stochastic.Scenarios) + list(capacity_df_stochastic_investors.Scenarios)\n",
    "# combined_capacity_df['Values'] = list(capacity_df_stochastic.Values) + list(capacity_df_stochastic_investors.Values)\n",
    "# combined_capacity_df['Types'] = ['Stochastic']*len(capacity_df_stochastic.Nodes) + ['Investors']*len(capacity_df_stochastic_investors.Nodes)\n",
    "\n",
    "\n",
    "# fig, ax = plt.subplots()\n",
    "# ax = sns.boxplot(x='Nodes', y='Values', data=combined_capacity_df, hue= 'Types', linewidth=2, width=0.5, palette = my_pal)\n",
    "# ax.set_xlabel(\"Locations\",**csfont)\n",
    "# ax.set_ylabel(\"Capacity\",**csfont);\n",
    "# legend = plt.legend(fontsize=20, frameon=False);\n",
    "# ax.get_legend().remove()\n",
    "# plt.savefig('./Figures/c.png',dpi=500, format='png', bbox_inches='tight')"
   ]
  },
  {
   "cell_type": "markdown",
   "id": "22c2791e",
   "metadata": {},
   "source": [
    "# Traffic"
   ]
  },
  {
   "cell_type": "code",
   "execution_count": 12,
   "id": "74a63791",
   "metadata": {},
   "outputs": [],
   "source": [
    "Traffic_file_stochastic = os.path.join(final_results_path, 'Resulting_traffic_Stochastic.csv')\n",
    "Traffic_file_CDA = os.path.join(final_results_path, 'Resulting_traffic_CDA.csv')\n",
    "\n",
    "\n",
    "q_stochastic = traffic_data_reader(Traffic_file_stochastic,'q','Stochastic')\n",
    "q_stochastic_CDA = traffic_data_reader(Traffic_file_CDA,'q','Stochastic')\n",
    "\n",
    "\n",
    "Link_Traffic_file_stochastic = os.path.join(final_results_path, 'Resulting_link_traffic_Stochastic.csv')\n",
    "Link_Traffic_file_CDA = os.path.join(final_results_path, 'Resulting_link_traffic_CDA.csv')\n",
    "\n",
    "x_stochastic = traffic_data_reader(Link_Traffic_file_stochastic, 'x', 'Stochastic')\n",
    "x_stochastic_CDA = traffic_data_reader(Link_Traffic_file_CDA, 'x', 'Stochastic')\n",
    "\n",
    "\n",
    "\n",
    "lamda1_file_stochastic = os.path.join(final_results_path, 'Resulting_lamda1_Stochastic.csv')\n",
    "lamda1_file_CDA = os.path.join(final_results_path, 'Resulting_lamda1_CDA.csv')\n",
    "\n",
    "\n",
    "lamda1_stochastic = traffic_data_reader(lamda1_file_stochastic, 'lamda', 'Stochastic')\n",
    "lamda1_stochastic_CDA = traffic_data_reader(lamda1_file_CDA, 'lamda', 'Stochastic')\n",
    "\n",
    "lamda2_file_stochastic = os.path.join(final_results_path, 'Resulting_lamda2_Stochastic.csv')\n",
    "lamda2_file_CDA = os.path.join(final_results_path, 'Resulting_lamda2_CDA.csv')\n",
    "\n",
    "lamda2_stochastic = traffic_data_reader(lamda2_file_stochastic, 'lamda', 'Stochastic')\n",
    "lamda2_stochastic_CDA = traffic_data_reader(lamda2_file_CDA, 'lamda', 'Stochastic')\n",
    "\n",
    "\n",
    "mu_file_stochastic = os.path.join(final_results_path, 'Resulting_mu_Stochastic.csv')\n",
    "mu_file_CDA = os.path.join(final_results_path, 'Resulting_mu_CDA.csv')\n",
    "\n",
    "\n",
    "mu_stochastic = traffic_data_reader(mu_file_stochastic, 'mu', 'Stochastic')\n",
    "mu_stochastic_CDA = traffic_data_reader(mu_file_CDA, 'mu', 'Stochastic')\n"
   ]
  },
  {
   "cell_type": "code",
   "execution_count": 14,
   "id": "ca041065",
   "metadata": {},
   "outputs": [
    {
     "name": "stdout",
     "output_type": "stream",
     "text": [
      "q                Stochastic            CDA\n",
      "(1,3,2,1)        15.693428             15.693428\n",
      "(1,3,2,2)        22.166364             22.166364\n",
      "(1,3,2,3)        20.827818             20.827818\n",
      "(1,3,2,4)        16.140552             16.140552\n",
      "(1,3,2,5)        17.037876             17.037876\n",
      "(1,3,5,1)        4.844029             4.844029\n",
      "(1,3,5,2)        1.223371             1.223371\n",
      "(1,3,5,3)        2.227281             2.227281\n",
      "(1,3,5,4)        4.879724             4.879724\n",
      "(1,3,5,5)        4.943864             4.943864\n",
      "(1,6,2,1)        0.000010             0.000010\n",
      "(1,6,2,2)        0.000010             0.000010\n",
      "(1,6,2,3)        0.000010             0.000010\n",
      "(1,6,2,4)        0.000010             0.000010\n",
      "(1,6,2,5)        0.000010             0.000010\n",
      "(1,6,5,1)        20.537457             20.537457\n",
      "(1,6,5,2)        23.389735             23.389735\n",
      "(1,6,5,3)        23.055098             23.055098\n",
      "(1,6,5,4)        21.020276             21.020276\n",
      "(1,6,5,5)        21.981740             21.981740\n",
      "(4,3,2,1)        0.000010             0.000010\n",
      "(4,3,2,2)        0.000010             0.000010\n",
      "(4,3,2,3)        0.000010             0.000010\n",
      "(4,3,2,4)        0.000010             0.000010\n",
      "(4,3,2,5)        0.000010             0.000010\n",
      "(4,3,5,1)        20.537457             20.537457\n",
      "(4,3,5,2)        23.389735             23.389735\n",
      "(4,3,5,3)        23.055098             23.055098\n",
      "(4,3,5,4)        21.020276             21.020276\n",
      "(4,3,5,5)        21.981740             21.981740\n",
      "(4,6,2,1)        0.000010             0.000010\n",
      "(4,6,2,2)        0.000010             0.000010\n",
      "(4,6,2,3)        0.000010             0.000010\n",
      "(4,6,2,4)        0.000010             0.000010\n",
      "(4,6,2,5)        0.000010             0.000010\n",
      "(4,6,5,1)        20.537457             20.537457\n",
      "(4,6,5,2)        23.389735             23.389735\n",
      "(4,6,5,3)        23.055098             23.055098\n",
      "(4,6,5,4)        21.020276             21.020276\n",
      "(4,6,5,5)        21.981740             21.981740\n"
     ]
    }
   ],
   "source": [
    "print(\"q                Stochastic            CDA\")\n",
    "\n",
    "for r in Ntw.C.R:\n",
    "    for s in Ntw.C.S:\n",
    "        for k in Ntw.C.K:\n",
    "            for u in Ntw.Scn.U:\n",
    "                print('(%i,%i,%i,%i)        %f             %f'%(r,s,k,u,q_stochastic[r,s,k,u],q_stochastic_CDA[r,s,k,u]))"
   ]
  },
  {
   "cell_type": "markdown",
   "id": "6405f0cb",
   "metadata": {},
   "source": [
    "# Surpluss analysis"
   ]
  },
  {
   "cell_type": "markdown",
   "id": "26c8ded6",
   "metadata": {},
   "source": [
    "### Investors cost calculation"
   ]
  },
  {
   "cell_type": "code",
   "execution_count": 15,
   "id": "0f00c736",
   "metadata": {
    "scrolled": true
   },
   "outputs": [],
   "source": [
    "Investors_total_cost = sum (Ntw.Scn.pr[u] *(\n",
    "    (Ntw.I.ca*c_stochastic[k,u]**2 + Ntw.I.cb*c_stochastic[k,u]) +\n",
    "    (Ntw.I.ga*g_stochastic[k,u]**2+Ntw.I.gb*g_stochastic[k,u])) for k in Ntw.I.K for u in Ntw.Scn.U)\n",
    "\n",
    "# Investors_total_cost_wo_anti = sum (Ntw.Scn.pr[u] *(\n",
    "#     (Ntw.I.ca*c_stochastic_wo_anti[k,u]**2 + Ntw.I.cb*c_stochastic_wo_anti[k,u]) +\n",
    "#     (Ntw.I.ga*g_stochastic_wo_anti[k,u]**2+Ntw.I.gb*g_stochastic_wo_anti[k,u])) for k in Ntw.I.K for u in Ntw.Scn.U)\n",
    "# print('Investors costs       With non-anti      WO non-anti')\n",
    "# print('                     ', round(Investors_total_cost,4), '     ', round(Investors_total_cost_wo_anti,4))"
   ]
  },
  {
   "cell_type": "markdown",
   "id": "93fc9e82",
   "metadata": {},
   "source": [
    "### Investors objective calculation"
   ]
  },
  {
   "cell_type": "code",
   "execution_count": 16,
   "id": "d031d825",
   "metadata": {},
   "outputs": [],
   "source": [
    "Investors_objective = sum(Ntw.Scn.pr[u] *( \n",
    "    rho_stochastic[k,u]*g_stochastic[k,u] -\n",
    "        (Ntw.I.ca*c_stochastic[k,u]**2 + Ntw.I.cb*c_stochastic[k,u]) - \n",
    "        (Ntw.I.ga*g_stochastic[k,u]**2+Ntw.I.gb*g_stochastic[k,u])) for k in Ntw.I.K for u in Ntw.Scn.U)\n",
    "\n",
    "# Investors_objective_wo_anti = sum(Ntw.Scn.pr[u] *( \n",
    "#     rho_stochastic_wo_anti[k,u]*g_stochastic_wo_anti[k,u] -\n",
    "#         (Ntw.I.ca*c_stochastic_wo_anti[k,u]**2 + Ntw.I.cb*c_stochastic_wo_anti[k,u]) - \n",
    "#         (Ntw.I.ga*g_stochastic_wo_anti[k,u]**2+Ntw.I.gb*g_stochastic_wo_anti[k,u])) for k in Ntw.I.K for u in Ntw.Scn.U)\n",
    "# print('Investors Obj       With non-anti      WO non-anti')\n",
    "# print('                   ', round(Investors_objective,5), '     ', round(Investors_objective_wo_anti,4))"
   ]
  },
  {
   "cell_type": "markdown",
   "id": "4259a8e1",
   "metadata": {},
   "source": [
    "### Calculating utility and ravel time based on x"
   ]
  },
  {
   "cell_type": "code",
   "execution_count": 17,
   "id": "bb0c4a14",
   "metadata": {},
   "outputs": [],
   "source": [
    "def travel_time(Ntw,lamda1,lamda2,mu):\n",
    "    t={}\n",
    "    A={}\n",
    "    for r in Ntw.C.R:\n",
    "        for s in Ntw.C.S:\n",
    "            for k in Ntw.C.K:\n",
    "                for u in Ntw.Scn.U:\n",
    "                    A[r,s,k,u] = lamda1[r,s,k,r,u] - lamda1[r,s,k,k,u]  + lamda2[r,s,k,k,u] - lamda2[r,s,k,s,u]\n",
    "                    t[r,s,k,u] = (Ntw.C.b3/(Ntw.C.b1*Ntw.Scn.pr[u])) * A[r,s,k,u]\n",
    "#                     t[r,s,k,u] = (Ntw.C.b3/Ntw.Scn.pr[u]) * (A[r,s,k,u]- mu[r,s,u])\n",
    "#                     t[r,s,k,u] = sum(Ntw.C.tff[i,j] * (1+Ntw.C.b[i,j]*((x[i,j,r,s,k,u]/Ntw.C.cap[i,j])**Ntw.C.alpha[i,j])) for (i,j) in Ntw.C.A)\n",
    "                    \n",
    "    return t\n",
    "\n",
    "def travel_time_deterministic(Ntw,lamda1,lamda2,mu):\n",
    "    t={}\n",
    "    A={}\n",
    "    for r in Ntw.C.R:\n",
    "        for s in Ntw.C.S:\n",
    "            for k in Ntw.C.K:\n",
    "                A[r,s,k] = lamda1[r,s,k,r] - lamda1[r,s,k,k]  + lamda2[r,s,k,k] - lamda2[r,s,k,s]\n",
    "                t[r,s,k] = (Ntw.C.b3/(Ntw.C.b1)) * A[r,s,k]\n",
    "#                     t[r,s,k,u] = (Ntw.C.b3/Ntw.Scn.pr[u]) * (A[r,s,k,u]- mu[r,s,u])\n",
    "#                     t[r,s,k,u] = sum(Ntw.C.tff[i,j] * (1+Ntw.C.b[i,j]*((x[i,j,r,s,k,u]/Ntw.C.cap[i,j])**Ntw.C.alpha[i,j])) for (i,j) in Ntw.C.A)\n",
    "                    \n",
    "    return t\n",
    "\n",
    "def Utility_func(Ntw,lamda1,lamda2,mu,q,rho):\n",
    "    t_time = travel_time(Ntw,lamda1,lamda2,mu)\n",
    "    U={}\n",
    "    for r in Ntw.C.R:\n",
    "        for s in Ntw.C.S:\n",
    "            for k in Ntw.C.K:\n",
    "                for u in Ntw.Scn.U:\n",
    "                    U[r,s,k,u] = Ntw.C.b0[k] - Ntw.C.b1 * t_time[r,s,k,u]- Ntw.C.b3*rho[k,u] * Ntw.C.e[r,s]\n",
    "                    \n",
    "                    \n",
    "    return U\n",
    "\n",
    "def Utility_func_deterministic(Ntw,lamda1,lamda2,mu,q,rho):\n",
    "    t_time = travel_time_deterministic(Ntw,lamda1,lamda2,mu)\n",
    "    U={}\n",
    "    for r in Ntw.C.R:\n",
    "        for s in Ntw.C.S:\n",
    "            for k in Ntw.C.K:\n",
    "                U[r,s,k] = Ntw.C.b0[k] - Ntw.C.b1 * t_time[r,s,k]- Ntw.C.b3*rho[k] * Ntw.C.e[r,s]\n",
    "                    \n",
    "                    \n",
    "    return U"
   ]
  },
  {
   "cell_type": "code",
   "execution_count": 18,
   "id": "9840ef98",
   "metadata": {},
   "outputs": [],
   "source": [
    "Utility_stochastic = Utility_func(Ntw,lamda1_stochastic,lamda2_stochastic,mu_stochastic,q_stochastic,rho_stochastic)\n",
    "\n",
    "total_utility = sum (Ntw.Scn.pr[u]*(Utility_stochastic[r,s,k,u] * q_stochastic[r,s,k,u]) / Ntw.C.b3 for r in Ntw.C.R for s in Ntw.C.S for k in Ntw.C.K for u in Ntw.C.Scn.U)\n"
   ]
  },
  {
   "cell_type": "markdown",
   "id": "50389ca2",
   "metadata": {},
   "source": [
    "### Surplus calculation"
   ]
  },
  {
   "cell_type": "code",
   "execution_count": 19,
   "id": "4e521d80",
   "metadata": {},
   "outputs": [],
   "source": [
    "Surpluss_stochastic = Investors_objective + sum (Ntw.Scn.pr[u]*(Utility_stochastic[r,s,k,u] * q_stochastic[r,s,k,u]) / Ntw.C.b3 for r in Ntw.C.R for s in Ntw.C.S for k in Ntw.C.K for u in Ntw.C.Scn.U)\n",
    "\n",
    "\n",
    "# print('Surplus       With non-anti      WO non-anti')\n",
    "# print('              ', round(Surpluss_stochastic,4), '     ', round(Surpluss_stochastic_wo_anti,4))"
   ]
  }
 ],
 "metadata": {
  "kernelspec": {
   "display_name": "Python 3",
   "language": "python",
   "name": "python3"
  },
  "language_info": {
   "codemirror_mode": {
    "name": "ipython",
    "version": 3
   },
   "file_extension": ".py",
   "mimetype": "text/x-python",
   "name": "python",
   "nbconvert_exporter": "python",
   "pygments_lexer": "ipython3",
   "version": "3.8.5"
  }
 },
 "nbformat": 4,
 "nbformat_minor": 5
}
