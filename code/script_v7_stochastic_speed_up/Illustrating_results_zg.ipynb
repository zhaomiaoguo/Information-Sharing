{
 "cells": [
  {
   "cell_type": "code",
   "execution_count": 2,
   "id": "3c1efdee",
   "metadata": {},
   "outputs": [],
   "source": [
    "import numpy as np\n",
    "import pandas as pd\n",
    "import matplotlib.pyplot as plt\n",
    "import os\n",
    "import csv\n",
    "import seaborn as sns\n",
    "import re\n",
    "from convex_optimization_test_zg import Network, Investors, Consumers, Example, Example_6node, Example_3node\n",
    "from Transportaion_test_systems import import_matrix, transportation_network_topo\n",
    "import math"
   ]
  },
  {
   "cell_type": "code",
   "execution_count": 3,
   "id": "9e73a6e4",
   "metadata": {},
   "outputs": [],
   "source": [
    "def getNumbers(str):\n",
    "    array = re.findall(r'[0-9]+', str)\n",
    "    return array"
   ]
  },
  {
   "cell_type": "markdown",
   "id": "3316bf2b",
   "metadata": {},
   "source": [
    "### Loading network parameters"
   ]
  },
  {
   "cell_type": "code",
   "execution_count": 4,
   "id": "b45f6946",
   "metadata": {},
   "outputs": [
    {
     "name": "stdout",
     "output_type": "stream",
     "text": [
      "growth at scen  1 :  1\n"
     ]
    }
   ],
   "source": [
    "congestion = False \n",
    "identical_scen = True \n",
    "Ntw = Example_3node(identical_scen, congestion)"
   ]
  },
  {
   "cell_type": "markdown",
   "id": "39101449",
   "metadata": {},
   "source": [
    "### Adding results paths"
   ]
  },
  {
   "cell_type": "code",
   "execution_count": 5,
   "id": "24356594",
   "metadata": {},
   "outputs": [],
   "source": [
    "root = (os.getcwd())\n",
    "results_path = root + '/Results'\n",
    "directory_contents = sorted(os.listdir(results_path))\n",
    "results_folders=[]\n",
    "# for item in directory_contents:\n",
    "#     if os.path.isdir(item):\n",
    "# #         print(getNumbers(item))\n",
    "#         results_folders.append(item)\n",
    "        \n",
    "final_results_path = os.path.join(results_path, directory_contents[-1])\n",
    "# determenistic_result_directory = os.path.dirname(os.getcwd()) + '/script_v8_deterministic_speed_up'"
   ]
  },
  {
   "cell_type": "code",
   "execution_count": 6,
   "id": "299b3e71",
   "metadata": {},
   "outputs": [
    {
     "data": {
      "text/plain": [
       "'/home/sinabaghali/Git/2018_stochastic_fast_charging/code/script_v7_stochastic_speed_up/Results/Results_20211115_1628'"
      ]
     },
     "execution_count": 6,
     "metadata": {},
     "output_type": "execute_result"
    }
   ],
   "source": [
    "final_results_path"
   ]
  },
  {
   "cell_type": "markdown",
   "id": "c076ad8f",
   "metadata": {},
   "source": [
    "### Figures setup"
   ]
  },
  {
   "cell_type": "code",
   "execution_count": 7,
   "id": "5a57c945",
   "metadata": {},
   "outputs": [],
   "source": [
    "import matplotlib as mpl\n",
    "mpl.rcParams['figure.figsize'] = (9, 6)\n",
    "mpl.rcParams['axes.grid'] = False\n",
    "mpl.rcParams['lines.linewidth'] = 2\n",
    " \n",
    "mpl.rc('font',family='Times New Roman', size=18)\n",
    "fnt_size=30\n",
    "fnt_size2=20\n",
    "csfont = {'fontname':'Times New Roman',\n",
    "                  'size': fnt_size,\n",
    "                 'fontweight':'bold'}\n",
    "csfont2 = {'fontname':'Times New Roman',\n",
    "                  'size': fnt_size2}"
   ]
  },
  {
   "cell_type": "markdown",
   "id": "03998ef0",
   "metadata": {},
   "source": [
    "### Helper functions for reading results"
   ]
  },
  {
   "cell_type": "code",
   "execution_count": 8,
   "id": "e28721b4",
   "metadata": {},
   "outputs": [],
   "source": [
    "def data_reader(file_name, result_type):\n",
    "    \n",
    "    \n",
    "    scenarios = []\n",
    "    nodes = []\n",
    "    value = []\n",
    "    value_dict={}\n",
    "    with open(file_name, 'r') as file:\n",
    "        reader = csv.reader(file)\n",
    "        for row in reader:\n",
    "            while(\"\" in row):\n",
    "                row.remove(\"\")\n",
    "#         row_numbers = getNumbers(row)\n",
    "            scenarios.append(int(getNumbers(row[0])[0]))\n",
    "            nodes.append(int(getNumbers(row[1])[0]))\n",
    "            value.append(float(row[-1]))\n",
    "            if result_type == 'stochastic':\n",
    "                value_dict[int(getNumbers(row[1])[0]), int(getNumbers(row[0])[0])] = float(row[-1])\n",
    "            elif result_type == 'deterministic':\n",
    "                value_dict[int(getNumbers(row[1])[0])] = float(row[-1])\n",
    "            \n",
    "    value_stochastic_dict= {'Nodes':nodes, 'Scenarios':scenarios, 'Values':value}\n",
    "    value_stochastic_df = pd.DataFrame(value_stochastic_dict)\n",
    "            \n",
    "    return value_stochastic_df, value_dict\n",
    "\n",
    "def traffic_data_reader(file_name, traffic_type):\n",
    "    \n",
    "    if traffic_type == 'q':\n",
    "        q={}\n",
    "        with open(file_name, 'r') as file:\n",
    "            reader = csv.reader(file)\n",
    "            for row in reader:\n",
    "                while(\"\" in row):\n",
    "                    row.remove(\"\")\n",
    "                q[int(getNumbers(row[1])[0]), int(getNumbers(row[2])[0]), int(getNumbers(row[3])[0]), int(getNumbers(row[0])[0])] = float(row[-1])\n",
    "        return q\n",
    "    \n",
    "    elif traffic_type == 'x':\n",
    "        x={}\n",
    "        with open(file_name, 'r') as file:\n",
    "            reader = csv.reader(file)\n",
    "            for row in reader:\n",
    "                while(\"\" in row):\n",
    "                    row.remove(\"\")\n",
    "                x[int(getNumbers(row[1])[0]), int(getNumbers(row[2])[0]), int(getNumbers(row[3])[0]), int(getNumbers(row[4])[0]), int(getNumbers(row[5])[0]), int(getNumbers(row[0])[0])] = float(row[-1])\n",
    "        return x\n",
    "    \n",
    "    elif traffic_type == 'lamda':\n",
    "        lamda={}\n",
    "        with open(file_name, 'r') as file:\n",
    "            reader = csv.reader(file)\n",
    "            for row in reader:\n",
    "                while(\"\" in row):\n",
    "                    row.remove(\"\")\n",
    "                lamda[int(getNumbers(row[1])[0]), int(getNumbers(row[2])[0]), int(getNumbers(row[3])[0]), int(getNumbers(row[4])[0]), int(getNumbers(row[0])[0])] = float(row[-1])\n",
    "        return lamda\n",
    "    elif traffic_type == 'mu':\n",
    "        mu={}\n",
    "        with open(file_name, 'r') as file:\n",
    "            reader = csv.reader(file)\n",
    "            for row in reader:\n",
    "                while(\"\" in row):\n",
    "                    row.remove(\"\")\n",
    "                mu[int(getNumbers(row[1])[0]), int(getNumbers(row[2])[0]), int(getNumbers(row[0])[0])] = float(row[-1])\n",
    "        return mu\n",
    "    \n",
    "    else:\n",
    "        print('Invalid traffic type; valid options are: q, x, lamda, mu')"
   ]
  },
  {
   "cell_type": "markdown",
   "id": "c15b2342",
   "metadata": {},
   "source": [
    "# Prices"
   ]
  },
  {
   "cell_type": "code",
   "execution_count": 9,
   "id": "8c5af160",
   "metadata": {},
   "outputs": [
    {
     "data": {
      "image/png": "[encoded data removed]",
      "text/plain": [
       "<Figure size 648x432 with 1 Axes>"
      ]
     },
     "metadata": {
      "needs_background": "light"
     },
     "output_type": "display_data"
    }
   ],
   "source": [
    "price_file_stochastic = os.path.join(final_results_path, 'Resulting_prices_with_anti.csv')\n",
    "price_file_stochastic_wo_anti = os.path.join(final_results_path, 'Resulting_prices_with_no_anti.csv')\n",
    "# price_file_deterministic = os.path.join(determenistic_result_directory, 'Results_prices.csv')\n",
    "\n",
    "\n",
    "prices_stochastic_df, rho_stochastic = data_reader(file_name=price_file_stochastic,result_type='stochastic')\n",
    "\n",
    "prices_stochastic_wo_anti_df, rho_stochastic_wo_anti = data_reader(file_name=price_file_stochastic_wo_anti,result_type='stochastic')\n",
    "\n",
    "combined_prices_df = pd.DataFrame()\n",
    "combined_prices_df['Nodes'] = list(prices_stochastic_df.Nodes) + list(prices_stochastic_wo_anti_df.Nodes)\n",
    "combined_prices_df['Scenarios'] = list(prices_stochastic_df.Scenarios) + list(prices_stochastic_wo_anti_df.Scenarios)\n",
    "combined_prices_df['Values'] = list(prices_stochastic_df.Values) + list(prices_stochastic_wo_anti_df.Values)\n",
    "combined_prices_df['Types'] = ['With anti']*len(prices_stochastic_df.Nodes) + ['WO anti']*len(prices_stochastic_wo_anti_df.Nodes)\n",
    "\n",
    "\n",
    "# prices_deterministic_df, rho_deterministic = data_reader(file_name=price_file_deterministic,result_type='deterministic')\n",
    "\n",
    "fig, ax = plt.subplots()\n",
    "ax = sns.boxplot(x='Nodes', y='Values', data=combined_prices_df, hue='Types', linewidth=1, width=0.5)\n",
    "# ax.scatter(range(len(prices_deterministic_df.Nodes)),prices_deterministic_df.Values, marker='x', color='red', s=50)\n",
    "ax.set_xlabel(\"Nodes\",**csfont)\n",
    "ax.set_ylabel(\"Prices\",**csfont);\n",
    "legend = plt.legend(fontsize=20, frameon=False);\n",
    "# legend = plt.legend(loc='best', bbox_to_anchor=(0.6, 0.5, 0, 0) ,ncol=2, title='Nodes',fontsize=20, frameon=False)"
   ]
  },
  {
   "cell_type": "code",
   "execution_count": 9,
   "id": "7f5ff6b4",
   "metadata": {},
   "outputs": [
    {
     "data": {
      "text/html": [
       "<div>\n",
       "<style scoped>\n",
       "    .dataframe tbody tr th:only-of-type {\n",
       "        vertical-align: middle;\n",
       "    }\n",
       "\n",
       "    .dataframe tbody tr th {\n",
       "        vertical-align: top;\n",
       "    }\n",
       "\n",
       "    .dataframe thead th {\n",
       "        text-align: right;\n",
       "    }\n",
       "</style>\n",
       "<table border=\"1\" class=\"dataframe\">\n",
       "  <thead>\n",
       "    <tr style=\"text-align: right;\">\n",
       "      <th></th>\n",
       "      <th>Nodes</th>\n",
       "      <th>Scenarios</th>\n",
       "      <th>Values</th>\n",
       "      <th>Types</th>\n",
       "    </tr>\n",
       "  </thead>\n",
       "  <tbody>\n",
       "    <tr>\n",
       "      <th>0</th>\n",
       "      <td>2</td>\n",
       "      <td>1</td>\n",
       "      <td>308.0</td>\n",
       "      <td>With anti</td>\n",
       "    </tr>\n",
       "    <tr>\n",
       "      <th>1</th>\n",
       "      <td>2</td>\n",
       "      <td>1</td>\n",
       "      <td>308.0</td>\n",
       "      <td>WO anti</td>\n",
       "    </tr>\n",
       "  </tbody>\n",
       "</table>\n",
       "</div>"
      ],
      "text/plain": [
       "   Nodes  Scenarios  Values      Types\n",
       "0      2          1   308.0  With anti\n",
       "1      2          1   308.0    WO anti"
      ]
     },
     "execution_count": 9,
     "metadata": {},
     "output_type": "execute_result"
    }
   ],
   "source": [
    "combined_prices_df"
   ]
  },
  {
   "cell_type": "markdown",
   "id": "d6b7ac41",
   "metadata": {},
   "source": [
    "# Services (g)"
   ]
  },
  {
   "cell_type": "code",
   "execution_count": 10,
   "id": "3ec6ab6d",
   "metadata": {},
   "outputs": [
    {
     "data": {
      "image/png": "[encoded data removed]",
      "text/plain": [
       "<Figure size 648x432 with 1 Axes>"
      ]
     },
     "metadata": {
      "needs_background": "light"
     },
     "output_type": "display_data"
    }
   ],
   "source": [
    "service_file_stochastic = os.path.join(final_results_path, 'Resulting_services_with_anti.csv')\n",
    "service_file_stochastic_wo_anti = os.path.join(final_results_path, 'Resulting_services_with_no_anti.csv')\n",
    "# service_file_deterministic = os.path.join(determenistic_result_directory, 'Results_services.csv')\n",
    "\n",
    "\n",
    "services_df_stochastic, g_stochastic = data_reader(file_name=service_file_stochastic,result_type='stochastic')\n",
    "services_df_stochastic_wo_anti, g_stochastic_wo_anti = data_reader(file_name=service_file_stochastic_wo_anti,result_type='stochastic')\n",
    "combined_services_df = pd.DataFrame()\n",
    "combined_services_df['Nodes'] = list(services_df_stochastic.Nodes) + list(services_df_stochastic_wo_anti.Nodes)\n",
    "combined_services_df['Scenarios'] = list(services_df_stochastic.Scenarios) + list(services_df_stochastic_wo_anti.Scenarios)\n",
    "combined_services_df['Values'] = list(services_df_stochastic.Values) + list(services_df_stochastic_wo_anti.Values)\n",
    "combined_services_df['Types'] = ['With anti']*len(services_df_stochastic.Nodes) + ['WO anti']*len(services_df_stochastic_wo_anti.Nodes)\n",
    "\n",
    "# services_df_deterministic, g_deterministic = data_reader(file_name=service_file_deterministic,result_type='deterministic') \n",
    "\n",
    "fig, ax = plt.subplots()\n",
    "ax = sns.boxplot(x='Nodes', y='Values', data=combined_services_df, hue='Types', linewidth=1, width=0.5)\n",
    "# ax.scatter(range(len(services_df_deterministic.Nodes)), services_df_deterministic.Values, color='red', marker ='x', s=50)\n",
    "# ax.set_ylim(480,800)\n",
    "ax.set_xlabel(\"Nodes\",**csfont)\n",
    "ax.set_ylabel(\"Services\",**csfont);\n",
    "legend = plt.legend(loc='upper left',  title='Types',fontsize=20, frameon=False);"
   ]
  },
  {
   "cell_type": "markdown",
   "id": "6839f77c",
   "metadata": {},
   "source": [
    "# Capacity"
   ]
  },
  {
   "cell_type": "code",
   "execution_count": 11,
   "id": "d76b9de7",
   "metadata": {},
   "outputs": [
    {
     "data": {
      "image/png": "[encoded data removed]",
      "text/plain": [
       "<Figure size 648x432 with 1 Axes>"
      ]
     },
     "metadata": {
      "needs_background": "light"
     },
     "output_type": "display_data"
    }
   ],
   "source": [
    "capacities_file_stochastic = os.path.join(final_results_path, 'Resulting_capacities_with_anti.csv')\n",
    "capacities_file_stochastic_wo_anti = os.path.join(final_results_path, 'Resulting_capacities_with_no_anti.csv')\n",
    "# capacity_file_deterministic = os.path.join(determenistic_result_directory, 'Results_capacity.csv')\n",
    "\n",
    "capacity_df_stochastic, c_stochastic = data_reader(file_name=capacities_file_stochastic,result_type='stochastic')\n",
    "capacity_df_stochastic_wo_anti, c_stochastic_wo_anti = data_reader(file_name=capacities_file_stochastic_wo_anti,result_type='stochastic')\n",
    "combined_capacity_df = pd.DataFrame()\n",
    "combined_capacity_df['Nodes'] = list(capacity_df_stochastic.Nodes) + list(capacity_df_stochastic_wo_anti.Nodes)\n",
    "combined_capacity_df['Scenarios'] = list(capacity_df_stochastic.Scenarios) + list(capacity_df_stochastic_wo_anti.Scenarios)\n",
    "combined_capacity_df['Values'] = list(capacity_df_stochastic.Values) + list(capacity_df_stochastic_wo_anti.Values)\n",
    "combined_capacity_df['Types'] = ['With anti']*len(capacity_df_stochastic.Nodes) + ['WO anti']*len(capacity_df_stochastic_wo_anti.Nodes)\n",
    "\n",
    "\n",
    "# capacity_df_deterministic, c_deterministic = data_reader(file_name=capacity_file_deterministic,result_type='deterministic')\n",
    "\n",
    "\n",
    "fig, ax = plt.subplots()\n",
    "ax = sns.boxplot(x='Nodes', y='Values', data=combined_capacity_df, hue= 'Types', linewidth=1, width=0.5)\n",
    "# ax.scatter(range(len(capacity_df_deterministic.Nodes)), capacity_df_deterministic.Values, color='red', marker ='x', s=50)\n",
    "ax.set_xlabel(\"Nodes\",**csfont)\n",
    "ax.set_ylabel(\"Capacities\",**csfont);\n",
    "legend = plt.legend(fontsize=20, frameon=False);"
   ]
  },
  {
   "cell_type": "markdown",
   "id": "22c2791e",
   "metadata": {},
   "source": [
    "# Traffic"
   ]
  },
  {
   "cell_type": "code",
   "execution_count": 17,
   "id": "74a63791",
   "metadata": {},
   "outputs": [],
   "source": [
    "Traffic_file_stochastic = os.path.join(final_results_path, 'Resulting_traffic_with_anti.csv')\n",
    "Traffic_file_stochastic_wo_anti = os.path.join(final_results_path, 'Resulting_traffic_with_no_anti.csv')\n",
    "# Traffic_file_deterministic = os.path.join(determenistic_result_directory, 'Results_traffic.csv')\n",
    "\n",
    "q_stochastic = traffic_data_reader(Traffic_file_stochastic,'q')\n",
    "q_stochastic_wo_anti = traffic_data_reader(Traffic_file_stochastic_wo_anti,'q')\n",
    "# q_deterministic = traffic_data_reader(Traffic_file_deterministic,'q')\n",
    "\n",
    "Link_Traffic_file_stochastic = os.path.join(final_results_path, 'Resulting_link_traffic_with_anti.csv')\n",
    "Link_Traffic_file_stochastic_wo_anti = os.path.join(final_results_path, 'Resulting_link_traffic_with_no_anti.csv')\n",
    "\n",
    "x_stochastic = traffic_data_reader(Link_Traffic_file_stochastic, 'x')\n",
    "x_stochastic_wo_anti = traffic_data_reader(Link_Traffic_file_stochastic_wo_anti, 'x')\n",
    "\n",
    "lamda1_file_stochastic = os.path.join(final_results_path, 'Resulting_lamda1_with_anti.csv')\n",
    "lamda1_file_stochastic_wo_anti = os.path.join(final_results_path, 'Resulting_lamda1_with_no_anti.csv')\n",
    "\n",
    "lamda1_stochastic = traffic_data_reader(lamda1_file_stochastic, 'lamda')\n",
    "lamda1_stochastic_wo_anti = traffic_data_reader(lamda1_file_stochastic, 'lamda')\n",
    "\n",
    "lamda2_file_stochastic = os.path.join(final_results_path, 'Resulting_lamda2_with_anti.csv')\n",
    "lamda2_file_stochastic_wo_anti = os.path.join(final_results_path, 'Resulting_lamda2_with_no_anti.csv')\n",
    "\n",
    "lamda2_stochastic = traffic_data_reader(lamda2_file_stochastic, 'lamda')\n",
    "lamda2_stochastic_wo_anti = traffic_data_reader(lamda2_file_stochastic, 'lamda')\n",
    "\n",
    "mu_stochastic = traffic_data_reader(lamda2_file_stochastic, 'mu')\n",
    "mu_stochastic_wo_anti = traffic_data_reader(lamda2_file_stochastic, 'mu')"
   ]
  },
  {
   "cell_type": "markdown",
   "id": "6405f0cb",
   "metadata": {},
   "source": [
    "# Surpluss analysis"
   ]
  },
  {
   "cell_type": "markdown",
   "id": "26c8ded6",
   "metadata": {},
   "source": [
    "### Investors cost calculation"
   ]
  },
  {
   "cell_type": "code",
   "execution_count": 14,
   "id": "0f00c736",
   "metadata": {
    "scrolled": true
   },
   "outputs": [
    {
     "name": "stdout",
     "output_type": "stream",
     "text": [
      "Investors costs       With non-anti      WO non-anti\n",
      "                      6080.0       6080.0\n"
     ]
    }
   ],
   "source": [
    "Investors_total_cost = sum (Ntw.Scn.pr[u] *(\n",
    "    (Ntw.I.ca*c_stochastic[k,u]**2 + Ntw.I.cb*c_stochastic[k,u]) +\n",
    "    (Ntw.I.ga*g_stochastic[k,u]**2+Ntw.I.gb*g_stochastic[k,u])) for k in Ntw.I.K for u in Ntw.Scn.U)\n",
    "\n",
    "Investors_total_cost_wo_anti = sum (Ntw.Scn.pr[u] *(\n",
    "    (Ntw.I.ca*c_stochastic_wo_anti[k,u]**2 + Ntw.I.cb*c_stochastic_wo_anti[k,u]) +\n",
    "    (Ntw.I.ga*g_stochastic_wo_anti[k,u]**2+Ntw.I.gb*g_stochastic_wo_anti[k,u])) for k in Ntw.I.K for u in Ntw.Scn.U)\n",
    "print('Investors costs       With non-anti      WO non-anti')\n",
    "print('                     ', round(Investors_total_cost,4), '     ', round(Investors_total_cost_wo_anti,4))"
   ]
  },
  {
   "cell_type": "markdown",
   "id": "93fc9e82",
   "metadata": {},
   "source": [
    "### Investors objective calculation"
   ]
  },
  {
   "cell_type": "code",
   "execution_count": 15,
   "id": "d031d825",
   "metadata": {},
   "outputs": [
    {
     "name": "stdout",
     "output_type": "stream",
     "text": [
      "Investors Obj       With non-anti      WO non-anti\n",
      "                    80.0       80.0\n"
     ]
    }
   ],
   "source": [
    "Investors_objective = sum(Ntw.Scn.pr[u] *( \n",
    "    rho_stochastic[k,u]*g_stochastic[k,u] -\n",
    "        (Ntw.I.ca*c_stochastic[k,u]**2 + Ntw.I.cb*c_stochastic[k,u]) - \n",
    "        (Ntw.I.ga*g_stochastic[k,u]**2+Ntw.I.gb*g_stochastic[k,u])) for k in Ntw.I.K for u in Ntw.Scn.U)\n",
    "\n",
    "Investors_objective_wo_anti = sum(Ntw.Scn.pr[u] *( \n",
    "    rho_stochastic_wo_anti[k,u]*g_stochastic_wo_anti[k,u] -\n",
    "        (Ntw.I.ca*c_stochastic_wo_anti[k,u]**2 + Ntw.I.cb*c_stochastic_wo_anti[k,u]) - \n",
    "        (Ntw.I.ga*g_stochastic_wo_anti[k,u]**2+Ntw.I.gb*g_stochastic_wo_anti[k,u])) for k in Ntw.I.K for u in Ntw.Scn.U)\n",
    "print('Investors Obj       With non-anti      WO non-anti')\n",
    "print('                   ', round(Investors_objective,5), '     ', round(Investors_objective_wo_anti,4))"
   ]
  },
  {
   "cell_type": "markdown",
   "id": "4259a8e1",
   "metadata": {},
   "source": [
    "### Calculating utility and ravel time based on x"
   ]
  },
  {
   "cell_type": "code",
   "execution_count": 23,
   "id": "bb0c4a14",
   "metadata": {},
   "outputs": [],
   "source": [
    "def travel_time(Ntw,lamda1,lamda2,mu):\n",
    "    t={}\n",
    "    A={}\n",
    "    for r in Ntw.C.R:\n",
    "        for s in Ntw.C.S:\n",
    "            for k in Ntw.C.K:\n",
    "                for u in Ntw.Scn.U:\n",
    "                    A[r,s,k,u] = -lamda1[r,s,k,k,u] + lamda1[r,s,k,r,u] -lamda1[r,s,k,s,u] + lamda2[r,s,k,r,u] - lamda2[r,s,k,k,u] - lamda2[r,s,k,s,u]\n",
    "                    t[r,s,k,u] = A[r,s,k,u]\n",
    "#                     t[r,s,k,u] = (Ntw.C.b3/Ntw.Scn.pr[u]) * (A[r,s,k,u]- mu[r,s,u])\n",
    "#                     t[r,s,k,u] = sum(Ntw.C.tff[i,j] * (1+Ntw.C.b[i,j]*((x[i,j,r,s,k,u]/Ntw.C.cap[i,j])**Ntw.C.alpha[i,j])) for (i,j) in Ntw.C.A)\n",
    "                    \n",
    "    return t\n",
    "\n",
    "def Utility_func(Ntw,lamda1,lamda2,mu,q,rho):\n",
    "    t_time = travel_time(Ntw,lamda1,lamda2,mu)\n",
    "    U={}\n",
    "    for r in Ntw.C.R:\n",
    "        for s in Ntw.C.S:\n",
    "            for k in Ntw.C.K:\n",
    "                for u in Ntw.Scn.U:\n",
    "                    U[r,s,k,u] = Ntw.C.b0[k] - Ntw.C.b1 * t_time[r,s,k,u]- Ntw.C.b3*rho[k,u] * Ntw.C.e[r,s]\n",
    "                    \n",
    "                    \n",
    "    return U"
   ]
  },
  {
   "cell_type": "code",
   "execution_count": 24,
   "id": "f06c0da1",
   "metadata": {},
   "outputs": [
    {
     "data": {
      "text/plain": [
       "{(1, 3, 2, 1): 31.158963999999997}"
      ]
     },
     "execution_count": 24,
     "metadata": {},
     "output_type": "execute_result"
    }
   ],
   "source": [
    "travel_time(Ntw,lamda1_stochastic,lamda2_stochastic,mu_stochastic)"
   ]
  },
  {
   "cell_type": "code",
   "execution_count": 25,
   "id": "f2cf0d8e",
   "metadata": {},
   "outputs": [
    {
     "data": {
      "text/plain": [
       "{(1, 3, 2, 1): 20.0}"
      ]
     },
     "execution_count": 25,
     "metadata": {},
     "output_type": "execute_result"
    }
   ],
   "source": [
    "q_stochastic"
   ]
  },
  {
   "cell_type": "code",
   "execution_count": 26,
   "id": "f334bd4b",
   "metadata": {},
   "outputs": [
    {
     "data": {
      "text/plain": [
       "{(1, 3, 1): -7.579482}"
      ]
     },
     "execution_count": 26,
     "metadata": {},
     "output_type": "execute_result"
    }
   ],
   "source": [
    "mu_stochastic"
   ]
  },
  {
   "cell_type": "code",
   "execution_count": 27,
   "id": "9840ef98",
   "metadata": {},
   "outputs": [],
   "source": [
    "Utility_stochastic = Utility_func(Ntw,lamda1_stochastic,lamda2_stochastic,mu_stochastic,q_stochastic,rho_stochastic)\n",
    "Utility_stochastic_wo_anti = Utility_func(Ntw,lamda1_stochastic_wo_anti,lamda2_stochastic_wo_anti,mu_stochastic_wo_anti,q_stochastic_wo_anti,rho_stochastic_wo_anti)\n",
    "\n"
   ]
  },
  {
   "cell_type": "code",
   "execution_count": 28,
   "id": "711663ab",
   "metadata": {},
   "outputs": [
    {
     "data": {
      "text/plain": [
       "{(1, 3, 2, 1, 1): 7.789743,\n",
       " (1, 3, 2, 2, 1): -0.210257,\n",
       " (1, 3, 2, 3, 1): -7.579482}"
      ]
     },
     "execution_count": 28,
     "metadata": {},
     "output_type": "execute_result"
    }
   ],
   "source": [
    "lamda1_stochastic"
   ]
  },
  {
   "cell_type": "code",
   "execution_count": 29,
   "id": "22eb5bc4",
   "metadata": {},
   "outputs": [
    {
     "data": {
      "text/plain": [
       "{(1, 3, 2, 1, 1): 7.789743,\n",
       " (1, 3, 2, 2, 1): -0.210257,\n",
       " (1, 3, 2, 3, 1): -7.579482}"
      ]
     },
     "execution_count": 29,
     "metadata": {},
     "output_type": "execute_result"
    }
   ],
   "source": [
    "lamda2_stochastic"
   ]
  },
  {
   "cell_type": "code",
   "execution_count": 30,
   "id": "985d79bd",
   "metadata": {},
   "outputs": [
    {
     "data": {
      "text/plain": [
       "{(2, 1): 308.0}"
      ]
     },
     "execution_count": 30,
     "metadata": {},
     "output_type": "execute_result"
    }
   ],
   "source": [
    "rho_stochastic"
   ]
  },
  {
   "cell_type": "markdown",
   "id": "50389ca2",
   "metadata": {},
   "source": [
    "### Surpluss calculation"
   ]
  },
  {
   "cell_type": "code",
   "execution_count": 31,
   "id": "4e521d80",
   "metadata": {},
   "outputs": [
    {
     "name": "stdout",
     "output_type": "stream",
     "text": [
      "Surpluss       With non-anti      WO non-anti\n",
      "               -6703.1793       -623.1793\n"
     ]
    }
   ],
   "source": [
    "Surpluss_stochastic = Investors_objective + sum (Utility_stochastic[r,s,k,u] * q_stochastic[r,s,k,u] for r in Ntw.C.R for s in Ntw.C.S for k in Ntw.C.K for u in Ntw.C.Scn.U)\n",
    "\n",
    "Surpluss_stochastic_wo_anti = Investors_total_cost_wo_anti + Investors_objective_wo_anti + sum (Utility_stochastic_wo_anti[r,s,k,u] * q_stochastic_wo_anti[r,s,k,u] for r in Ntw.C.R for s in Ntw.C.S for k in Ntw.C.K for u in Ntw.C.Scn.U)\n",
    "\n",
    "print('Surpluss       With non-anti      WO non-anti')\n",
    "print('              ', round(Surpluss_stochastic,4), '     ', round(Surpluss_stochastic_wo_anti,4))"
   ]
  },
  {
   "cell_type": "markdown",
   "id": "26943beb",
   "metadata": {},
   "source": [
    "# EVPI analysis"
   ]
  },
  {
   "cell_type": "markdown",
   "id": "ccb3617d",
   "metadata": {},
   "source": [
    "## Investors"
   ]
  },
  {
   "cell_type": "code",
   "execution_count": 32,
   "id": "1f79c846",
   "metadata": {},
   "outputs": [
    {
     "data": {
      "text/plain": [
       "0.0"
      ]
     },
     "execution_count": 32,
     "metadata": {},
     "output_type": "execute_result"
    }
   ],
   "source": [
    "EVPI_investors = Investors_objective - Investors_objective_wo_anti\n",
    "EVPI_investors"
   ]
  },
  {
   "cell_type": "markdown",
   "id": "0aa83337",
   "metadata": {},
   "source": [
    "## Consumers "
   ]
  },
  {
   "cell_type": "code",
   "execution_count": 33,
   "id": "029ed24d",
   "metadata": {},
   "outputs": [],
   "source": [
    "def consumer_obj_func(Ntw,q,x,rho,c):\n",
    "    v = {}\n",
    "    for (r,s) in Ntw.C.A:\n",
    "        for u in Ntw.Scn.U:\n",
    "            v[r,s,u] = sum (x[r,s,i,j,k,u] for i in Ntw.C.R for j in Ntw.C.S for k in Ntw.C.K)\n",
    "    \n",
    "    exp0 = {}\n",
    "    exp1 = {}\n",
    "    for u in Ntw.Scn.U:\n",
    "        exp0[u] = sum(Ntw.C.tff[r,s]*(v[r,s,u]+(Ntw.C.b[r,s]/(Ntw.C.alpha[r,s]+1.0))*(v[r,s,u]**(Ntw.C.alpha[r,s]+1))/(Ntw.C.cap[r,s]**(Ntw.C.alpha[r,s]))) for (r,s) in Ntw.C.A)\n",
    "        exp1[u] = 1.0/Ntw.C.b1*( sum( q[r,s,k,u]*( math.log(q[r,s,k,u]) - 1.0 + Ntw.C.b3 * rho[k,u] * Ntw.C.e[r,s] - Ntw.C.b0[k]) for k in Ntw.C.K for s in Ntw.C.S for r in Ntw.C.R))\n",
    "        \n",
    "    consumer_obj = sum(exp0[u] + exp1[u] for u in Ntw.Scn.U) \n",
    "    \n",
    "    return consumer_obj\n"
   ]
  },
  {
   "cell_type": "code",
   "execution_count": 34,
   "id": "b6e12190",
   "metadata": {},
   "outputs": [
    {
     "data": {
      "text/plain": [
       "0.0"
      ]
     },
     "execution_count": 34,
     "metadata": {},
     "output_type": "execute_result"
    }
   ],
   "source": [
    "Consumers_objective = consumer_obj_func(Ntw,q_stochastic,x_stochastic,rho_stochastic,c_stochastic)\n",
    "Consumers_objective_wo_anti = consumer_obj_func(Ntw,q_stochastic_wo_anti,\n",
    "                                                x_stochastic_wo_anti,\n",
    "                                                rho_stochastic_wo_anti,\n",
    "                                                c_stochastic_wo_anti)\n",
    "\n",
    "EVPI_consumers = Consumers_objective_wo_anti - Consumers_objective\n",
    "EVPI_consumers"
   ]
  },
  {
   "cell_type": "markdown",
   "id": "7884a3d0",
   "metadata": {},
   "source": [
    "# Total travel time comparison"
   ]
  },
  {
   "cell_type": "code",
   "execution_count": 29,
   "id": "ec1cc8a3",
   "metadata": {},
   "outputs": [],
   "source": [
    "def total_travel_time(Ntw, x):\n",
    "    v = {}\n",
    "    for (i,j) in Ntw.C.A:\n",
    "        for u in Ntw.Scn.U:\n",
    "            v[i,j,u] = sum (x[i,j,r,s,k,u] for r in Ntw.C.R for s in Ntw.C.S for k in Ntw.C.K)\n",
    "            \n",
    "    tt_time = sum(v[i,j,u] * Ntw.C.tff[i,j] * (1+Ntw.C.b[i,j]*((v[i,j,u]/Ntw.C.cap[i,j])**Ntw.C.alpha[i,j])) for (i,j) in Ntw.C.A)\n",
    "    \n",
    "    return tt_time"
   ]
  },
  {
   "cell_type": "code",
   "execution_count": 30,
   "id": "771f86bf",
   "metadata": {},
   "outputs": [
    {
     "name": "stdout",
     "output_type": "stream",
     "text": [
      "Total travel time       With non-anti      WO non-anti\n",
      "                        320.0         320.0\n"
     ]
    }
   ],
   "source": [
    "tt_time = total_travel_time(Ntw, x_stochastic)\n",
    "tt_time_wo_anti = total_travel_time(Ntw, x_stochastic_wo_anti)\n",
    "\n",
    "print('Total travel time       With non-anti      WO non-anti')\n",
    "print('                       ', round(tt_time,4), '       ', round(tt_time_wo_anti,4))"
   ]
  },
  {
   "cell_type": "code",
   "execution_count": null,
   "id": "45f1ecb7",
   "metadata": {},
   "outputs": [],
   "source": []
  }
 ],
 "metadata": {
  "kernelspec": {
   "display_name": "Python 3",
   "language": "python",
   "name": "python3"
  },
  "language_info": {
   "codemirror_mode": {
    "name": "ipython",
    "version": 3
   },
   "file_extension": ".py",
   "mimetype": "text/x-python",
   "name": "python",
   "nbconvert_exporter": "python",
   "pygments_lexer": "ipython3",
   "version": "3.8.5"
  }
 },
 "nbformat": 4,
 "nbformat_minor": 5
}
